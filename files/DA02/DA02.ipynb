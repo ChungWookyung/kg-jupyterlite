{
  "nbformat": 4,
  "nbformat_minor": 0,
  "metadata": {
    "language_info": {
      "codemirror_mode": {
        "name": "python",
        "version": 3
      },
      "file_extension": ".py",
      "mimetype": "text/x-python",
      "name": "python",
      "nbconvert_exporter": "python",
      "pygments_lexer": "ipython3",
      "version": "3.8"
    },
    "kernelspec": {
      "name": "python",
      "display_name": "Pyolite",
      "language": "python"
    }
  },
  "cells": [
    {
      "cell_type": "markdown",
      "source": [
        "## 1. インポートでPandasを読み込む"
      ],
      "metadata": {
        "id": "vMwPlvyrDoIW"
      }
    },
    {
      "cell_type": "code",
      "source": [
        "import pandas as pd"
      ],
      "metadata": {
        "id": "gzANptHzyUkk"
      },
      "execution_count": null,
      "outputs": []
    },
    {
      "cell_type": "code",
      "source": [
        "pd.DataFrame({\"a\":[1,2,3,4,5], \"b\":[5,4,3,2,1]})"
      ],
      "metadata": {
        "id": "Y1XEioShD28X"
      },
      "execution_count": null,
      "outputs": []
    },
    {
      "cell_type": "code",
      "source": [
        "import pandas"
      ],
      "metadata": {
        "id": "IJ0FQQz2D4ZY"
      },
      "execution_count": null,
      "outputs": []
    },
    {
      "cell_type": "code",
      "source": [
        "pandas.DataFrame({\"a\":[1,2,3,4,5], \"b\":[5,4,3,2,1]})"
      ],
      "metadata": {
        "id": "z_BG56epD5oX"
      },
      "execution_count": null,
      "outputs": []
    },
    {
      "cell_type": "markdown",
      "source": [
        "## 2. インデックスの概念"
      ],
      "metadata": {
        "id": "6Qy1ggitD-Jh"
      }
    },
    {
      "cell_type": "code",
      "source": [
        "data = pd.DataFrame({\"a\":[1,2,3,4,5], \"b\":[5,4,3,2,1], \"c\":[\"High\",\"Low\",\"High\",\"Med\",\"Low\"], \"d\":[0.1,0.2,0.5,0.3,0.2]})"
      ],
      "metadata": {
        "id": "8zOHJtBPD6wP"
      },
      "execution_count": null,
      "outputs": []
    },
    {
      "cell_type": "code",
      "source": [
        "data.head()"
      ],
      "metadata": {
        "id": "B3uIPHK2EHR6"
      },
      "execution_count": null,
      "outputs": []
    },
    {
      "cell_type": "code",
      "source": [
        "data[\"b\"]"
      ],
      "metadata": {
        "id": "Bh5quT4XEJDi"
      },
      "execution_count": null,
      "outputs": []
    },
    {
      "cell_type": "code",
      "source": [
        "data[\"c\"]"
      ],
      "metadata": {
        "id": "u_v3kGw5EKNI"
      },
      "execution_count": null,
      "outputs": []
    },
    {
      "cell_type": "markdown",
      "source": [
        "## 2.1 locでデータをインデックシングする\n"
      ],
      "metadata": {
        "id": "R8QL_wmSEPCJ"
      }
    },
    {
      "cell_type": "code",
      "source": [
        "data.head()"
      ],
      "metadata": {
        "id": "Sth5_gmHELe1"
      },
      "execution_count": null,
      "outputs": []
    },
    {
      "cell_type": "code",
      "source": [
        "data.loc[0,\"a\"]"
      ],
      "metadata": {
        "id": "PIJN_GuMEffn"
      },
      "execution_count": null,
      "outputs": []
    },
    {
      "cell_type": "code",
      "source": [
        "data.loc[0:4,\"c\"]"
      ],
      "metadata": {
        "id": "_R8EesaZEhn0"
      },
      "execution_count": null,
      "outputs": []
    },
    {
      "cell_type": "code",
      "source": [
        "data.loc[2:3,[\"c\",\"d\"]]"
      ],
      "metadata": {
        "id": "doSdo7anEivv"
      },
      "execution_count": null,
      "outputs": []
    },
    {
      "cell_type": "code",
      "source": [
        ""
      ],
      "metadata": {
        "id": "mxir8tPcEkGy"
      },
      "execution_count": null,
      "outputs": []
    },
    {
      "cell_type": "code",
      "source": [
        ""
      ],
      "metadata": {
        "id": "DPKI8vvwEl2R"
      },
      "execution_count": null,
      "outputs": []
    },
    {
      "cell_type": "code",
      "source": [
        ""
      ],
      "metadata": {
        "id": "aeDlZKUzEnNM"
      },
      "execution_count": null,
      "outputs": []
    },
    {
      "cell_type": "markdown",
      "source": [
        "## 2.2 ilocでデータをインデックシングする"
      ],
      "metadata": {
        "id": "HuNn6SJ4En5O"
      }
    },
    {
      "cell_type": "code",
      "source": [
        "data.head()"
      ],
      "metadata": {
        "id": "CKG4aRvbEnlS"
      },
      "execution_count": null,
      "outputs": []
    },
    {
      "cell_type": "code",
      "source": [
        "data.iloc[1,1]"
      ],
      "metadata": {
        "id": "_tJz_AHzEp8j"
      },
      "execution_count": null,
      "outputs": []
    },
    {
      "cell_type": "code",
      "source": [
        "data.iloc[0:3,2]"
      ],
      "metadata": {
        "id": "jQIV36INErHz"
      },
      "execution_count": null,
      "outputs": []
    },
    {
      "cell_type": "code",
      "source": [
        "data.iloc[:,3]"
      ],
      "metadata": {
        "id": "GnIfIXvuEsA9"
      },
      "execution_count": null,
      "outputs": []
    },
    {
      "cell_type": "code",
      "source": [
        ""
      ],
      "metadata": {
        "id": "DIY9DlyPEtIN"
      },
      "execution_count": null,
      "outputs": []
    },
    {
      "cell_type": "code",
      "source": [
        ""
      ],
      "metadata": {
        "id": "9_i__HvhEtuL"
      },
      "execution_count": null,
      "outputs": []
    },
    {
      "cell_type": "code",
      "source": [
        ""
      ],
      "metadata": {
        "id": "B5F4o83tEuYY"
      },
      "execution_count": null,
      "outputs": []
    },
    {
      "cell_type": "markdown",
      "source": [
        "## 2.3 条件文の操作"
      ],
      "metadata": {
        "id": "nJi2ArqpExOJ"
      }
    },
    {
      "cell_type": "code",
      "source": [
        "data.head()"
      ],
      "metadata": {
        "id": "A1uw8LhxEuwd"
      },
      "execution_count": null,
      "outputs": []
    },
    {
      "cell_type": "code",
      "source": [
        "data[data[\"a\"] > 3]"
      ],
      "metadata": {
        "id": "D8VHXXrSEzTT"
      },
      "execution_count": null,
      "outputs": []
    },
    {
      "cell_type": "code",
      "source": [
        "data[data[\"d\"] <= 0.4]"
      ],
      "metadata": {
        "id": "CfeYXGZwE0Yn"
      },
      "execution_count": null,
      "outputs": []
    },
    {
      "cell_type": "code",
      "source": [
        "data[data[\"c\"] == \"High\"]"
      ],
      "metadata": {
        "id": "zvRYi02mE14M"
      },
      "execution_count": null,
      "outputs": []
    },
    {
      "cell_type": "code",
      "source": [
        ""
      ],
      "metadata": {
        "id": "xnaDZDlhE2V8"
      },
      "execution_count": null,
      "outputs": []
    },
    {
      "cell_type": "code",
      "source": [
        ""
      ],
      "metadata": {
        "id": "WXcR4cU2E3ez"
      },
      "execution_count": null,
      "outputs": []
    },
    {
      "cell_type": "code",
      "source": [
        ""
      ],
      "metadata": {
        "id": "iLU3MWGGE4hG"
      },
      "execution_count": null,
      "outputs": []
    },
    {
      "cell_type": "markdown",
      "source": [
        "## 2.4 条件文の重複"
      ],
      "metadata": {
        "id": "kVWxYLh7E5dB"
      }
    },
    {
      "cell_type": "code",
      "source": [
        "data.head()"
      ],
      "metadata": {
        "id": "-btLRr01E417"
      },
      "execution_count": null,
      "outputs": []
    },
    {
      "cell_type": "code",
      "source": [
        "data[(data[\"a\"] >= 3) & (data[\"c\"] == \"High\")]"
      ],
      "metadata": {
        "id": "oKkz6L0JE8mT"
      },
      "execution_count": null,
      "outputs": []
    },
    {
      "cell_type": "code",
      "source": [
        "data[(data[\"c\"] == \"Low\") | (data[\"a\"] == 1)]"
      ],
      "metadata": {
        "id": "dLdbWD-zE9u4"
      },
      "execution_count": null,
      "outputs": []
    },
    {
      "cell_type": "code",
      "source": [
        ""
      ],
      "metadata": {
        "id": "WTRF7-_NE-tC"
      },
      "execution_count": null,
      "outputs": []
    },
    {
      "cell_type": "code",
      "source": [
        ""
      ],
      "metadata": {
        "id": "4lRhILCIE_YX"
      },
      "execution_count": null,
      "outputs": []
    },
    {
      "cell_type": "markdown",
      "source": [
        "## 3 基礎統計量"
      ],
      "metadata": {
        "id": "tt53x40YFBTh"
      }
    },
    {
      "cell_type": "code",
      "source": [
        "data.head()"
      ],
      "metadata": {
        "id": "tWKawiCVE_s6"
      },
      "execution_count": null,
      "outputs": []
    },
    {
      "cell_type": "code",
      "source": [
        "data.describe()"
      ],
      "metadata": {
        "id": "-1m2WhZNFDMU"
      },
      "execution_count": null,
      "outputs": []
    },
    {
      "cell_type": "markdown",
      "source": [
        "## 3.1 平均"
      ],
      "metadata": {
        "id": "rV-XL1IBFGQt"
      }
    },
    {
      "cell_type": "code",
      "source": [
        "data[\"a\"].mean()"
      ],
      "metadata": {
        "id": "MmXjDvHyFEIn"
      },
      "execution_count": null,
      "outputs": []
    },
    {
      "cell_type": "code",
      "source": [
        ""
      ],
      "metadata": {
        "id": "PAxnWOX5FIqK"
      },
      "execution_count": null,
      "outputs": []
    },
    {
      "cell_type": "markdown",
      "source": [
        "## 3.2 分散"
      ],
      "metadata": {
        "id": "2eP56fHPFKAl"
      }
    },
    {
      "cell_type": "code",
      "source": [
        "data[\"d\"].var()"
      ],
      "metadata": {
        "id": "JMkzorGYFJM7"
      },
      "execution_count": null,
      "outputs": []
    },
    {
      "cell_type": "code",
      "source": [
        "data[\"a\"].std()"
      ],
      "metadata": {
        "id": "EPNdw3ivFMn5"
      },
      "execution_count": null,
      "outputs": []
    },
    {
      "cell_type": "code",
      "source": [
        ""
      ],
      "metadata": {
        "id": "OT0dygJ8FNn3"
      },
      "execution_count": null,
      "outputs": []
    },
    {
      "cell_type": "markdown",
      "source": [
        "## 3.3 その他基礎統計量"
      ],
      "metadata": {
        "id": "KS_IemlWFP1B"
      }
    },
    {
      "cell_type": "code",
      "source": [
        "data[\"a\"].max()"
      ],
      "metadata": {
        "id": "YRBhbzHcFPJR"
      },
      "execution_count": null,
      "outputs": []
    },
    {
      "cell_type": "code",
      "source": [
        "data[\"a\"].min()"
      ],
      "metadata": {
        "id": "V16N7Qy8FSo9"
      },
      "execution_count": null,
      "outputs": []
    },
    {
      "cell_type": "code",
      "source": [
        "data[\"a\"].count()"
      ],
      "metadata": {
        "id": "CkRsARxHFTeo"
      },
      "execution_count": null,
      "outputs": []
    },
    {
      "cell_type": "code",
      "source": [
        "data[\"a\"].quantile(0.5)"
      ],
      "metadata": {
        "id": "-vRwWbM5FUR9"
      },
      "execution_count": null,
      "outputs": []
    },
    {
      "cell_type": "markdown",
      "source": [
        "# 4 リアルなデータを操作すると？"
      ],
      "metadata": {
        "id": "v6qne7zLFYUI"
      }
    },
    {
      "cell_type": "code",
      "source": [
        "import pyodide\n",
        "dt = pd.read_csv(pyodide.open_url(\"https://raw.githubusercontent.com/ChungWookyung/kg-jupyterlite-data-analysis/main/content/DATA/mhigh.csv\"))"
      ],
      "metadata": {
        "id": "ajz4rol4FVNP"
      },
      "execution_count": null,
      "outputs": []
    },
    {
      "cell_type": "code",
      "source": [
        "dt.head()"
      ],
      "metadata": {
        "id": "tXw5lUBaFcsF"
      },
      "execution_count": null,
      "outputs": []
    },
    {
      "cell_type": "code",
      "source": [
        ""
      ],
      "metadata": {
        "id": "YJOzFScgFds4"
      },
      "execution_count": null,
      "outputs": []
    }
  ]
}