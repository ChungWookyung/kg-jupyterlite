{
  "metadata": {
    "colab": {
      "name": "DA11.ipynb",
      "provenance": []
    },
    "kernelspec": {
      "name": "python",
      "display_name": "Python (Pyodide)",
      "language": "python"
    },
    "language_info": {
      "codemirror_mode": {
        "name": "python",
        "version": 3
      },
      "file_extension": ".py",
      "mimetype": "text/x-python",
      "name": "python",
      "nbconvert_exporter": "python",
      "pygments_lexer": "ipython3",
      "version": "3.8"
    }
  },
  "nbformat_minor": 4,
  "nbformat": 4,
  "cells": [
    {
      "cell_type": "code",
      "source": "import pandas as pd\nfrom sklearn.neural_network import MLPClassifier\nimport piplite\nawait piplite.install(\"palettable\")\nawait piplite.install(\"seaborn\")\nimport VisualizeNN as VisNN\nimport pyodide\nimport seaborn as sns\nfrom matplotlib import pyplot as plt\nimport numpy as np\n%matplotlib inline\nsns.set(rc={'figure.figsize':(11.7,8.27)})",
      "metadata": {
        "id": "v89eJLTZ_pOk",
        "trusted": true
      },
      "execution_count": 4,
      "outputs": []
    },
    {
      "cell_type": "code",
      "source": "",
      "metadata": {},
      "execution_count": null,
      "outputs": []
    }
  ]
}