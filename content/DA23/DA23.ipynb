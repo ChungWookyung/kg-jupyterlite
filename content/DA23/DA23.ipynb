{
  "metadata": {
    "colab": {
      "name": "DA11.ipynb",
      "provenance": []
    },
    "kernelspec": {
      "name": "python",
      "display_name": "Python (Pyodide)",
      "language": "python"
    },
    "language_info": {
      "codemirror_mode": {
        "name": "python",
        "version": 3
      },
      "file_extension": ".py",
      "mimetype": "text/x-python",
      "name": "python",
      "nbconvert_exporter": "python",
      "pygments_lexer": "ipython3",
      "version": "3.8"
    }
  },
  "nbformat_minor": 4,
  "nbformat": 4,
  "cells": [
    {
      "cell_type": "code",
      "source": "import pandas as pd\nfrom sklearn.neural_network import MLPClassifier\nimport VisualizeNN as VisNN\nimport piplite\nawait piplite.install(\"seaborn\")\nimport pyodide\nimport seaborn as sns\nfrom matplotlib import pyplot as plt\n%matplotlib inline\nsns.set(rc={'figure.figsize':(11.7,8.27)})",
      "metadata": {
        "id": "v89eJLTZ_pOk",
        "trusted": true
      },
      "execution_count": 1,
      "outputs": []
    },
    {
      "cell_type": "code",
      "source": "",
      "metadata": {},
      "execution_count": null,
      "outputs": []
    }
  ]
}