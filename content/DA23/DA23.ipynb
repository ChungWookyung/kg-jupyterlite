{
  "metadata": {
    "colab": {
      "name": "DA11.ipynb",
      "provenance": []
    },
    "kernelspec": {
      "name": "python",
      "display_name": "Python (Pyodide)",
      "language": "python"
    },
    "language_info": {
      "codemirror_mode": {
        "name": "python",
        "version": 3
      },
      "file_extension": ".py",
      "mimetype": "text/x-python",
      "name": "python",
      "nbconvert_exporter": "python",
      "pygments_lexer": "ipython3",
      "version": "3.8"
    }
  },
  "nbformat_minor": 4,
  "nbformat": 4,
  "cells": [
    {
      "cell_type": "code",
      "source": "import pandas as pd\nfrom sklearn.neural_network import MLPClassifier\nimport piplite\nawait piplite.install(\"palettable\")\nawait piplite.install(\"seaborn\")\nimport VisualizeNN as VisNN\nimport pyodide\nimport seaborn as sns\nfrom matplotlib import pyplot as plt\nimport numpy as np\n%matplotlib inline\nsns.set(rc={'figure.figsize':(11.7,8.27)})",
      "metadata": {
        "id": "v89eJLTZ_pOk",
        "trusted": true
      },
      "execution_count": null,
      "outputs": []
    },
    {
      "cell_type": "markdown",
      "source": "## 1. 座標軸データにおける学習",
      "metadata": {}
    },
    {
      "cell_type": "code",
      "source": "data = pd.read_csv(pyodide.http.open_url(\"https://raw.githubusercontent.com/ChungWookyung/kg-jupyterlite-data-analysis/main/content/DATA/xydata.csv\"))\ndata.head()",
      "metadata": {
        "trusted": true
      },
      "execution_count": null,
      "outputs": []
    },
    {
      "cell_type": "markdown",
      "source": "データが何を意味しているのか、グラフで見る（散布図）",
      "metadata": {}
    },
    {
      "cell_type": "code",
      "source": "sns.scatterplot(data = data, x = \"x\", y = \"y\", hue = \"label\")",
      "metadata": {
        "trusted": true
      },
      "execution_count": null,
      "outputs": []
    },
    {
      "cell_type": "markdown",
      "source": "ラベルが１の場合、真ん中の円の中の点であり、０はそれ以外の点であることが分かる",
      "metadata": {}
    },
    {
      "cell_type": "markdown",
      "source": "### 1-1 学習データとテストデータを分ける",
      "metadata": {}
    },
    {
      "cell_type": "code",
      "source": "train = data.sample(frac=0.8, random_state=1234)\ntest = data.drop(train.index)\ntrain.head()",
      "metadata": {
        "trusted": true
      },
      "execution_count": null,
      "outputs": []
    },
    {
      "cell_type": "code",
      "source": "test.head()",
      "metadata": {
        "trusted": true
      },
      "execution_count": null,
      "outputs": []
    },
    {
      "cell_type": "markdown",
      "source": "800個の学習データtrainと200個のテストデータtestに分けた",
      "metadata": {}
    },
    {
      "cell_type": "code",
      "source": "sns.scatterplot(data = train, x = \"x\", y = \"y\", hue = \"label\")",
      "metadata": {
        "trusted": true
      },
      "execution_count": null,
      "outputs": []
    },
    {
      "cell_type": "markdown",
      "source": "学習データの散布図",
      "metadata": {}
    },
    {
      "cell_type": "code",
      "source": "sns.scatterplot(data = test, x = \"x\", y = \"y\", hue = \"label\")",
      "metadata": {
        "trusted": true
      },
      "execution_count": null,
      "outputs": []
    },
    {
      "cell_type": "markdown",
      "source": "テストデータの散布図",
      "metadata": {}
    },
    {
      "cell_type": "markdown",
      "source": "### 1-2 ニューラルネットワークの構築",
      "metadata": {}
    },
    {
      "cell_type": "code",
      "source": "X_train = train.loc[:,[\"x\",\"y\"]].values\nY_train = train.loc[:,[\"label\"]].values\nY_train = np.ravel(Y_train)",
      "metadata": {
        "trusted": true
      },
      "execution_count": null,
      "outputs": []
    },
    {
      "cell_type": "markdown",
      "source": "まずは、ニューラルネットワークモデルを学習させるためのXとYデータを分けておく\n- X_train : 座標軸の学習データ\n- Y_train : ラベルの学習データ",
      "metadata": {}
    },
    {
      "cell_type": "code",
      "source": "model = MLPClassifier(hidden_layer_sizes=(8,4,), alpha=0.5, max_iter=5000, random_state=1234)\nmodel = model.fit(X_train, Y_train)",
      "metadata": {
        "trusted": true
      },
      "execution_count": null,
      "outputs": []
    },
    {
      "cell_type": "markdown",
      "source": "１階層に8つのニューロンがあり、２階層に４つのニューロンがあるモデルを構築し、学習させた",
      "metadata": {}
    },
    {
      "cell_type": "code",
      "source": "model.score(X_train, Y_train)",
      "metadata": {
        "trusted": true
      },
      "execution_count": null,
      "outputs": []
    },
    {
      "cell_type": "markdown",
      "source": "学習データにおける正確度は98%である",
      "metadata": {}
    },
    {
      "cell_type": "code",
      "source": "X_test = test.loc[:,[\"x\",\"y\"]].values\nY_test = test.loc[:,[\"label\"]].values\nY_test = np.ravel(Y_test)\nmodel.score(X_test, Y_test)",
      "metadata": {
        "trusted": true
      },
      "execution_count": null,
      "outputs": []
    },
    {
      "cell_type": "markdown",
      "source": "テストデータにおいても同じく98%の正確度を見せている",
      "metadata": {}
    },
    {
      "cell_type": "code",
      "source": "model_data = pd.DataFrame({\"x\":train.x, \"y\":train.y, \"label\":model.predict(X_train)})\nsns.scatterplot(data = model_data, x = \"x\", y = \"y\", hue = \"label\")",
      "metadata": {
        "trusted": true
      },
      "execution_count": null,
      "outputs": []
    },
    {
      "cell_type": "markdown",
      "source": "モデルが予測した学習データにおけるラベルは上のようになる",
      "metadata": {}
    },
    {
      "cell_type": "code",
      "source": "xx, yy = np.meshgrid(np.arange(0, 1, 0.01), np.arange(0, 1, 0.01))\nZ = model.predict_proba(np.column_stack([xx.ravel(), yy.ravel()]))[:, 1]\nZ = Z.reshape(xx.shape)\nplt.contourf(xx, yy, Z, cmap=plt.cm.bwr, alpha=0.8)",
      "metadata": {
        "trusted": true
      },
      "execution_count": null,
      "outputs": []
    },
    {
      "cell_type": "markdown",
      "source": "モデルが予測する範囲",
      "metadata": {}
    },
    {
      "cell_type": "markdown",
      "source": "## 1-3 ニューラルネットワークモデルの図式化",
      "metadata": {}
    },
    {
      "cell_type": "code",
      "source": "network_structure = np.hstack(([X_train.shape[1]], np.asarray(model.hidden_layer_sizes), [1]))\nnetwork=VisNN.DrawNN(network_structure)\nnetwork.draw()",
      "metadata": {
        "trusted": true
      },
      "execution_count": null,
      "outputs": []
    },
    {
      "cell_type": "markdown",
      "source": "モデルの各ニューロンは上のようにつながっている",
      "metadata": {}
    },
    {
      "cell_type": "code",
      "source": "network=VisNN.DrawNN(network_structure, model.coefs_)\nnetwork.draw()",
      "metadata": {
        "trusted": true
      },
      "execution_count": null,
      "outputs": []
    },
    {
      "cell_type": "markdown",
      "source": "学習されたニューロンの間の連結を図式化した",
      "metadata": {}
    },
    {
      "cell_type": "markdown",
      "source": "## 2 鉱石のデータセット",
      "metadata": {}
    },
    {
      "cell_type": "code",
      "source": "data = pd.read_csv(pyodide.http.open_url(\"https://raw.githubusercontent.com/ChungWookyung/kg-jupyterlite-data-analysis/main/content/DATA/sonar.csv\"))\ndata.head()",
      "metadata": {
        "trusted": true
      },
      "execution_count": null,
      "outputs": []
    },
    {
      "cell_type": "markdown",
      "source": "データは６０個のセンサーで測った石の形の情報(sensor1~60)とその石が鉱石かただの石かを表すラベル(label)で構成されている",
      "metadata": {}
    },
    {
      "cell_type": "code",
      "source": "np.unique(data.label)",
      "metadata": {
        "trusted": true
      },
      "execution_count": null,
      "outputs": []
    },
    {
      "cell_type": "markdown",
      "source": "鉱石だったら、ラベルは\"M\"となり、石だったら、ラベルは\"R\"となる",
      "metadata": {}
    },
    {
      "cell_type": "code",
      "source": "data.label = data.label.replace({\"M\":1, \"R\":0})",
      "metadata": {
        "trusted": true
      },
      "execution_count": null,
      "outputs": []
    },
    {
      "cell_type": "markdown",
      "source": "データのラベルを鉱石だったら1、石だったら0に書き換えた",
      "metadata": {}
    },
    {
      "cell_type": "code",
      "source": "sns.scatterplot(data = data, x = \"sensor1\", y = \"sensor2\", hue = \"label\")",
      "metadata": {
        "trusted": true
      },
      "execution_count": null,
      "outputs": []
    },
    {
      "cell_type": "markdown",
      "source": "上の散布図のように、各センサーごとの鉱石と石の散布図を描くことができるが、60個もあるので、人がいちいち判断しにくい",
      "metadata": {}
    },
    {
      "cell_type": "markdown",
      "source": "### 2-1 学習データとテストデータを分ける",
      "metadata": {}
    },
    {
      "cell_type": "code",
      "source": "train = data.sample(frac=0.8, random_state=1234)\ntest = data.drop(train.index)\ntrain.head()",
      "metadata": {
        "trusted": true
      },
      "execution_count": null,
      "outputs": []
    },
    {
      "cell_type": "code",
      "source": "test.head()",
      "metadata": {
        "trusted": true
      },
      "execution_count": null,
      "outputs": []
    },
    {
      "cell_type": "markdown",
      "source": "166個の学習データtrainと42個のテストデータtestに分けた",
      "metadata": {}
    },
    {
      "cell_type": "code",
      "source": "fig, ax = plt.subplots(5,5,figsize=(12,12))\n\nfor i in range(5):\n    for j in range(5):\n        sensor1 = \"sensor\" + str(i+1)\n        sensor2 = \"sensor\" + str(j+10)\n        sns.scatterplot(data=train, x=sensor1, y=sensor2, hue = \"label\", ax=ax[i][j])\n        ax[i][j].legend([],[], frameon=False)",
      "metadata": {
        "trusted": true
      },
      "execution_count": null,
      "outputs": []
    },
    {
      "cell_type": "markdown",
      "source": "学習データにおける各センサーごとの散布図(オレンジ色：鉱石、青色：ただの石)",
      "metadata": {}
    },
    {
      "cell_type": "code",
      "source": "fig, ax = plt.subplots(5,5,figsize=(12,12))\n\nfor i in range(5):\n    for j in range(5):\n        sensor1 = \"sensor\" + str(i+1)\n        sensor2 = \"sensor\" + str(j+10)\n        sns.scatterplot(data=test, x=sensor1, y=sensor2, hue = \"label\", ax=ax[i][j])\n        ax[i][j].legend([],[], frameon=False)",
      "metadata": {
        "trusted": true
      },
      "execution_count": null,
      "outputs": []
    },
    {
      "cell_type": "markdown",
      "source": "テストデータにおける各センサーごとの散布図(オレンジ色：鉱石、青色：ただの石)",
      "metadata": {}
    },
    {
      "cell_type": "markdown",
      "source": "### 2-2 ニューラルネットワークの構築",
      "metadata": {}
    },
    {
      "cell_type": "code",
      "source": "X_train = train.iloc[:,np.arange(60)].values\nY_train = train.loc[:,[\"label\"]].values\nY_train = np.ravel(Y_train)",
      "metadata": {
        "trusted": true
      },
      "execution_count": null,
      "outputs": []
    },
    {
      "cell_type": "markdown",
      "source": "まずは、ニューラルネットワークモデルを学習させるためのXとYデータを分けておく\n\n- X_train : センサーの学習データ\n- Y_train : ラベルの学習データ",
      "metadata": {}
    },
    {
      "cell_type": "code",
      "source": "model = MLPClassifier(hidden_layer_sizes=(32,32,), alpha=0.5, max_iter=5000, random_state=1234)\nmodel = model.fit(X_train, Y_train)",
      "metadata": {
        "trusted": true
      },
      "execution_count": null,
      "outputs": []
    },
    {
      "cell_type": "markdown",
      "source": "１階層に32個のニューロンがあり、２階層に32個のニューロンがあるモデルを構築し、学習させた",
      "metadata": {}
    },
    {
      "cell_type": "code",
      "source": "model.score(X_train, Y_train)",
      "metadata": {
        "trusted": true
      },
      "execution_count": null,
      "outputs": []
    },
    {
      "cell_type": "markdown",
      "source": "学習データにおける正確度は100%である",
      "metadata": {}
    },
    {
      "cell_type": "code",
      "source": "X_test = test.iloc[:,np.arange(60)].values\nY_test = test.loc[:,[\"label\"]].values\nY_test = np.ravel(Y_test)\nmodel.score(X_test, Y_test)",
      "metadata": {
        "trusted": true
      },
      "execution_count": null,
      "outputs": []
    },
    {
      "cell_type": "markdown",
      "source": "テストデータにおいて83%の正確度を見せている",
      "metadata": {}
    },
    {
      "cell_type": "markdown",
      "source": "強いてモデルを図式化するとすれば、次のようなものになる\n![](https://raw.githubusercontent.com/ChungWookyung/kg-jupyterlite-data-analysis/main/content/DA23/nn.svg)",
      "metadata": {}
    },
    {
      "cell_type": "markdown",
      "source": "## 3 ペンギンのデータセット",
      "metadata": {}
    },
    {
      "cell_type": "code",
      "source": "data = pd.read_csv(pyodide.http.open_url(\"https://raw.githubusercontent.com/ChungWookyung/kg-jupyterlite-data-analysis/main/content/DATA/penguin.csv\"))\ndata.head()",
      "metadata": {
        "trusted": true
      },
      "execution_count": null,
      "outputs": []
    },
    {
      "cell_type": "markdown",
      "source": "実際に測られたペンギンのデータを読み込んだ\n\n- species : どの種のペンギンなのか\n- island : どの島に住んでいるのか\n- bill_length_mm : くちばしの長さ\n- bill_depth_mm : くちばしの深さ\n- flipper_length_mm : 羽の長さ\n- body_mass_g : 体重\n- sex : 性別\n- year : 測った年度",
      "metadata": {}
    },
    {
      "cell_type": "code",
      "source": "sns.scatterplot(data = data, x = \"bill_length_mm\", y = \"flipper_length_mm\", hue = \"species\")",
      "metadata": {
        "trusted": true
      },
      "execution_count": null,
      "outputs": []
    },
    {
      "cell_type": "markdown",
      "source": "くちばしと羽の長さの散布図",
      "metadata": {}
    },
    {
      "cell_type": "code",
      "source": "data = pd.read_csv(pyodide.http.open_url(\"https://raw.githubusercontent.com/ChungWookyung/kg-jupyterlite-data-analysis/main/content/DATA/penguin.csv\"))\ndata = data.drop(\"year\",axis=1)\ndata.sex = data.sex.replace({\"female\":1,\"male\":0})\ndata = pd.get_dummies(data, columns=[\"island\",\"species\"])\ndata.bill_length_mm = (data.bill_length_mm - data.bill_length_mm.mean())/data.bill_length_mm.std()\ndata.bill_depth_mm = (data.bill_depth_mm - data.bill_depth_mm.mean())/data.bill_depth_mm.std()\ndata.flipper_length_mm = (data.flipper_length_mm - data.flipper_length_mm.mean())/data.flipper_length_mm.std()\ndata.body_mass_g = (data.body_mass_g - data.body_mass_g.mean())/data.body_mass_g.std()\ndata.head()",
      "metadata": {
        "trusted": true
      },
      "execution_count": null,
      "outputs": []
    },
    {
      "cell_type": "markdown",
      "source": "データを学習しやすいように書き直す\n- ダミー変数に書き換える作業\n- -1から1に収まるように正規化する作業",
      "metadata": {}
    },
    {
      "cell_type": "markdown",
      "source": "### 3-1 学習データとテストデータを分ける",
      "metadata": {}
    },
    {
      "cell_type": "code",
      "source": "train = data.sample(frac=0.8, random_state=1234)\ntest = data.drop(train.index)\ntrain.head()",
      "metadata": {
        "trusted": true
      },
      "execution_count": null,
      "outputs": []
    },
    {
      "cell_type": "code",
      "source": "test.head()",
      "metadata": {
        "trusted": true
      },
      "execution_count": null,
      "outputs": []
    },
    {
      "cell_type": "markdown",
      "source": "266個の学習データtrainと67個のテストデータtestに分けた",
      "metadata": {}
    },
    {
      "cell_type": "markdown",
      "source": "### 3-2 ニューラルネットワークの構築",
      "metadata": {}
    },
    {
      "cell_type": "code",
      "source": "X_train = train.iloc[:,np.arange(8)].values\nY_train = train.loc[:,[\"species_Adelie\",\"species_Chinstrap\",\"species_Gentoo\"]].values",
      "metadata": {
        "trusted": true
      },
      "execution_count": null,
      "outputs": []
    },
    {
      "cell_type": "markdown",
      "source": "まずは、ニューラルネットワークモデルを学習させるためのXとYデータを分けておく\n\n- X_train : ペンギンの基本情報の学習データ\n- Y_train : ペンギンの種の学習データ",
      "metadata": {}
    },
    {
      "cell_type": "code",
      "source": "model = MLPClassifier(hidden_layer_sizes=(16,8,), alpha=0.5, max_iter=5000, random_state=1234)\nmodel = model.fit(X_train, Y_train)",
      "metadata": {
        "trusted": true
      },
      "execution_count": null,
      "outputs": []
    },
    {
      "cell_type": "markdown",
      "source": "１階層に16個のニューロンがあり、２階層に8個のニューロンがあるモデルを構築し、学習させた",
      "metadata": {}
    },
    {
      "cell_type": "code",
      "source": "model.score(X_train, Y_train)",
      "metadata": {
        "trusted": true
      },
      "execution_count": null,
      "outputs": []
    },
    {
      "cell_type": "markdown",
      "source": "学習データにおける正確度は100%である",
      "metadata": {}
    },
    {
      "cell_type": "code",
      "source": "X_test = test.iloc[:,np.arange(8)].values\nY_test = test.loc[:,[\"species_Adelie\",\"species_Chinstrap\",\"species_Gentoo\"]].values\nmodel.score(X_test, Y_test)",
      "metadata": {
        "trusted": true
      },
      "execution_count": null,
      "outputs": []
    },
    {
      "cell_type": "markdown",
      "source": "テストデータにおける正確度も100%である",
      "metadata": {}
    },
    {
      "cell_type": "markdown",
      "source": "## 3-3 ニューラルネットワークモデルの図式化",
      "metadata": {}
    },
    {
      "cell_type": "code",
      "source": "network_structure = np.hstack(([X_train.shape[1]], np.asarray(model.hidden_layer_sizes), [3]))\nnetwork=VisNN.DrawNN(network_structure)\nnetwork.draw()",
      "metadata": {
        "trusted": true
      },
      "execution_count": null,
      "outputs": []
    },
    {
      "cell_type": "markdown",
      "source": "モデルの各ニューロンは上のようにつながっている",
      "metadata": {}
    },
    {
      "cell_type": "code",
      "source": "network=VisNN.DrawNN(network_structure, model.coefs_)\nnetwork.draw()",
      "metadata": {
        "trusted": true
      },
      "execution_count": null,
      "outputs": []
    },
    {
      "cell_type": "markdown",
      "source": "学習されたニューロンの連結を図式化した",
      "metadata": {}
    }
  ]
}