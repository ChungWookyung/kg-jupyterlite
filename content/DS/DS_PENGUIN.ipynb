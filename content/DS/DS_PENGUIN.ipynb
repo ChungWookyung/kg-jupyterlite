{
  "cells": [
    {
      "cell_type": "code",
      "execution_count": null,
      "metadata": {
        "id": "v89eJLTZ_pOk",
        "trusted": true
      },
      "outputs": [],
      "source": [
        "import pandas as pd\n",
        "from sklearn.neural_network import MLPClassifier\n",
        "import piplite\n",
        "await piplite.install(\"palettable\")\n",
        "await piplite.install(\"seaborn\")\n",
        "import VisualizeNN as VisNN\n",
        "import pyodide\n",
        "import seaborn as sns\n",
        "from matplotlib import pyplot as plt\n",
        "import numpy as np\n",
        "%matplotlib inline\n",
        "sns.set(rc={'figure.figsize':(11.7,8.27)})"
      ]
    },
    {
      "cell_type": "markdown",
      "metadata": {},
      "source": [
        "## ペンギンのデータセット"
      ]
    },
    {
      "cell_type": "code",
      "execution_count": null,
      "metadata": {
        "trusted": true
      },
      "outputs": [],
      "source": [
        "data = pd.read_csv(pyodide.http.open_url(\"https://raw.githubusercontent.com/ChungWookyung/kg-jupyterlite-data-analysis/main/content/DATA/penguin.csv\"))\n",
        "data.head()"
      ]
    },
    {
      "cell_type": "markdown",
      "metadata": {},
      "source": [
        "実際に測られたペンギンのデータを読み込んだ\n",
        "\n",
        "- species : どの種のペンギンなのか\n",
        "- island : どの島に住んでいるのか\n",
        "- bill_length_mm : くちばしの長さ\n",
        "- bill_depth_mm : くちばしの深さ\n",
        "- flipper_length_mm : 羽の長さ\n",
        "- body_mass_g : 体重\n",
        "- sex : 性別\n",
        "- year : 測った年度"
      ]
    },
    {
      "cell_type": "code",
      "execution_count": null,
      "metadata": {},
      "outputs": [],
      "source": [
        "data.iloc[[0,150,300],:]"
      ]
    },
    {
      "cell_type": "code",
      "execution_count": null,
      "metadata": {
        "trusted": true
      },
      "outputs": [],
      "source": [
        "sns.scatterplot(data = data, x = \"bill_length_mm\", y = \"flipper_length_mm\", hue = \"species\")"
      ]
    },
    {
      "cell_type": "markdown",
      "metadata": {},
      "source": [
        "くちばしと羽の長さの散布図"
      ]
    },
    {
      "cell_type": "code",
      "execution_count": null,
      "metadata": {
        "trusted": true
      },
      "outputs": [],
      "source": [
        "data = pd.read_csv(pyodide.http.open_url(\"https://raw.githubusercontent.com/ChungWookyung/kg-jupyterlite-data-analysis/main/content/DATA/penguin.csv\"))\n",
        "data = data.drop(\"year\",axis=1)\n",
        "data.sex = data.sex.replace({\"female\":1,\"male\":0})\n",
        "data = pd.get_dummies(data, columns=[\"island\",\"species\"])\n",
        "data.bill_length_mm = (data.bill_length_mm - data.bill_length_mm.mean())/data.bill_length_mm.std()\n",
        "data.bill_depth_mm = (data.bill_depth_mm - data.bill_depth_mm.mean())/data.bill_depth_mm.std()\n",
        "data.flipper_length_mm = (data.flipper_length_mm - data.flipper_length_mm.mean())/data.flipper_length_mm.std()\n",
        "data.body_mass_g = (data.body_mass_g - data.body_mass_g.mean())/data.body_mass_g.std()\n",
        "data.head()"
      ]
    },
    {
      "cell_type": "markdown",
      "metadata": {},
      "source": [
        "データを学習しやすいように書き直す\n",
        "- ダミー変数に書き換える作業\n",
        "- -1から1に収まるように正規化する作業"
      ]
    },
    {
      "cell_type": "markdown",
      "metadata": {},
      "source": [
        "### 1 学習データとテストデータを分ける"
      ]
    },
    {
      "cell_type": "code",
      "execution_count": null,
      "metadata": {
        "trusted": true
      },
      "outputs": [],
      "source": [
        "train = data.sample(frac=0.8, random_state=1234)\n",
        "test = data.drop(train.index)\n",
        "train.head()"
      ]
    },
    {
      "cell_type": "code",
      "execution_count": null,
      "metadata": {
        "trusted": true
      },
      "outputs": [],
      "source": [
        "test.head()"
      ]
    },
    {
      "cell_type": "markdown",
      "metadata": {},
      "source": [
        "266個の学習データtrainと67個のテストデータtestに分けた"
      ]
    },
    {
      "cell_type": "markdown",
      "metadata": {},
      "source": [
        "### 2 ニューラルネットワークの構築"
      ]
    },
    {
      "cell_type": "code",
      "execution_count": null,
      "metadata": {
        "trusted": true
      },
      "outputs": [],
      "source": [
        "X_train = train.iloc[:,np.arange(8)].values\n",
        "Y_train = train.loc[:,[\"species_Adelie\",\"species_Chinstrap\",\"species_Gentoo\"]].values"
      ]
    },
    {
      "cell_type": "markdown",
      "metadata": {},
      "source": [
        "まずは、ニューラルネットワークモデルを学習させるためのXとYデータを分けておく\n",
        "\n",
        "- X_train : ペンギンの基本情報の学習データ\n",
        "- Y_train : ペンギンの種の学習データ"
      ]
    },
    {
      "cell_type": "code",
      "execution_count": null,
      "metadata": {
        "trusted": true
      },
      "outputs": [],
      "source": [
        "model = MLPClassifier(hidden_layer_sizes=(16,8,), alpha=0.5, max_iter=5000, random_state=1234)\n",
        "model = model.fit(X_train, Y_train)"
      ]
    },
    {
      "cell_type": "markdown",
      "metadata": {},
      "source": [
        "１階層に16個のニューロンがあり、２階層に8個のニューロンがあるモデルを構築し、学習させた"
      ]
    },
    {
      "cell_type": "code",
      "execution_count": null,
      "metadata": {
        "trusted": true
      },
      "outputs": [],
      "source": [
        "model.score(X_train, Y_train)"
      ]
    },
    {
      "cell_type": "markdown",
      "metadata": {},
      "source": [
        "学習データにおける正確度は100%である"
      ]
    },
    {
      "cell_type": "code",
      "execution_count": null,
      "metadata": {
        "trusted": true
      },
      "outputs": [],
      "source": [
        "X_test = test.iloc[:,np.arange(8)].values\n",
        "Y_test = test.loc[:,[\"species_Adelie\",\"species_Chinstrap\",\"species_Gentoo\"]].values\n",
        "model.score(X_test, Y_test)"
      ]
    },
    {
      "cell_type": "markdown",
      "metadata": {},
      "source": [
        "テストデータにおける正確度も100%である"
      ]
    },
    {
      "cell_type": "markdown",
      "metadata": {},
      "source": [
        "## 3 ニューラルネットワークモデルの図式化"
      ]
    },
    {
      "cell_type": "code",
      "execution_count": null,
      "metadata": {
        "trusted": true
      },
      "outputs": [],
      "source": [
        "network_structure = np.hstack(([X_train.shape[1]], np.asarray(model.hidden_layer_sizes), [3]))\n",
        "network=VisNN.DrawNN(network_structure)\n",
        "network.draw()"
      ]
    },
    {
      "cell_type": "markdown",
      "metadata": {},
      "source": [
        "モデルの各ニューロンは上のようにつながっている"
      ]
    },
    {
      "cell_type": "code",
      "execution_count": null,
      "metadata": {
        "trusted": true
      },
      "outputs": [],
      "source": [
        "network=VisNN.DrawNN(network_structure, model.coefs_)\n",
        "network.draw()"
      ]
    },
    {
      "cell_type": "markdown",
      "metadata": {},
      "source": [
        "学習されたニューロンの連結を図式化した"
      ]
    }
  ],
  "metadata": {
    "colab": {
      "name": "DS_PENGUIN.ipynb",
      "provenance": []
    },
    "kernelspec": {
      "display_name": "Python (Pyodide)",
      "language": "python",
      "name": "python"
    },
    "language_info": {
      "codemirror_mode": {
        "name": "python",
        "version": 3
      },
      "file_extension": ".py",
      "mimetype": "text/x-python",
      "name": "python",
      "nbconvert_exporter": "python",
      "pygments_lexer": "ipython3",
      "version": "3.8"
    }
  },
  "nbformat": 4,
  "nbformat_minor": 4
}
