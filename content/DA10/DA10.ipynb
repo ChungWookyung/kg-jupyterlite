{
  "metadata": {
    "colab": {
      "name": "DA10.ipynb",
      "provenance": []
    },
    "kernelspec": {
      "name": "python",
      "display_name": "Pyolite",
      "language": "python"
    },
    "language_info": {
      "codemirror_mode": {
        "name": "python",
        "version": 3
      },
      "file_extension": ".py",
      "mimetype": "text/x-python",
      "name": "python",
      "nbconvert_exporter": "python",
      "pygments_lexer": "ipython3",
      "version": "3.8"
    }
  },
  "nbformat_minor": 4,
  "nbformat": 4,
  "cells": [
    {
      "cell_type": "code",
      "source": "import pandas as pd\nimport pyodide",
      "metadata": {
        "colab": {
          "base_uri": "https://localhost:8080/",
          "height": 204
        },
        "id": "k-B2ibsVdO1k",
        "outputId": "25e3bd92-dcb3-4bd6-cdb3-deeeb7fd1610",
        "trusted": true
      },
      "execution_count": 2,
      "outputs": []
    },
    {
      "cell_type": "markdown",
      "source": "## 1-1 行と列の概念",
      "metadata": {
        "id": "Kjtp2Fs6dR4D"
      }
    },
    {
      "cell_type": "code",
      "source": "import pandas as pd\nimport pyodide\ndata = pd.read_csv(pyodide.open_url('https://raw.githubusercontent.com/mwaskom/seaborn-data/master/iris.csv'))\ndata.head()",
      "metadata": {
        "colab": {
          "base_uri": "https://localhost:8080/",
          "height": 204
        },
        "id": "k-B2ibsVdO1k",
        "outputId": "25e3bd92-dcb3-4bd6-cdb3-deeeb7fd1610",
        "trusted": true
      },
      "execution_count": 3,
      "outputs": [
        {
          "execution_count": 3,
          "output_type": "execute_result",
          "data": {
            "text/plain": "   sepal_length  sepal_width  petal_length  petal_width species\n0           5.1          3.5           1.4          0.2  setosa\n1           4.9          3.0           1.4          0.2  setosa\n2           4.7          3.2           1.3          0.2  setosa\n3           4.6          3.1           1.5          0.2  setosa\n4           5.0          3.6           1.4          0.2  setosa",
            "text/html": "<div>\n<style scoped>\n    .dataframe tbody tr th:only-of-type {\n        vertical-align: middle;\n    }\n\n    .dataframe tbody tr th {\n        vertical-align: top;\n    }\n\n    .dataframe thead th {\n        text-align: right;\n    }\n</style>\n<table border=\"1\" class=\"dataframe\">\n  <thead>\n    <tr style=\"text-align: right;\">\n      <th></th>\n      <th>sepal_length</th>\n      <th>sepal_width</th>\n      <th>petal_length</th>\n      <th>petal_width</th>\n      <th>species</th>\n    </tr>\n  </thead>\n  <tbody>\n    <tr>\n      <th>0</th>\n      <td>5.1</td>\n      <td>3.5</td>\n      <td>1.4</td>\n      <td>0.2</td>\n      <td>setosa</td>\n    </tr>\n    <tr>\n      <th>1</th>\n      <td>4.9</td>\n      <td>3.0</td>\n      <td>1.4</td>\n      <td>0.2</td>\n      <td>setosa</td>\n    </tr>\n    <tr>\n      <th>2</th>\n      <td>4.7</td>\n      <td>3.2</td>\n      <td>1.3</td>\n      <td>0.2</td>\n      <td>setosa</td>\n    </tr>\n    <tr>\n      <th>3</th>\n      <td>4.6</td>\n      <td>3.1</td>\n      <td>1.5</td>\n      <td>0.2</td>\n      <td>setosa</td>\n    </tr>\n    <tr>\n      <th>4</th>\n      <td>5.0</td>\n      <td>3.6</td>\n      <td>1.4</td>\n      <td>0.2</td>\n      <td>setosa</td>\n    </tr>\n  </tbody>\n</table>\n</div>"
          },
          "metadata": {}
        }
      ]
    },
    {
      "cell_type": "code",
      "source": "data.columns",
      "metadata": {
        "colab": {
          "base_uri": "https://localhost:8080/"
        },
        "id": "yMxs9yMLent5",
        "outputId": "ef4c7abf-3c35-44e4-a32f-d79c6c2d5455",
        "trusted": true
      },
      "execution_count": 4,
      "outputs": [
        {
          "execution_count": 4,
          "output_type": "execute_result",
          "data": {
            "text/plain": "Index(['sepal_length', 'sepal_width', 'petal_length', 'petal_width',\n       'species'],\n      dtype='object')"
          },
          "metadata": {}
        }
      ]
    },
    {
      "cell_type": "code",
      "source": "",
      "metadata": {
        "id": "s7sgj92Qeu9Q"
      },
      "execution_count": null,
      "outputs": []
    },
    {
      "cell_type": "code",
      "source": "data.shape",
      "metadata": {
        "colab": {
          "base_uri": "https://localhost:8080/"
        },
        "id": "lxH_ygLZeueV",
        "outputId": "f33d4f39-1cec-4351-eef3-516726a3a283",
        "trusted": true
      },
      "execution_count": 5,
      "outputs": [
        {
          "execution_count": 5,
          "output_type": "execute_result",
          "data": {
            "text/plain": "(150, 5)"
          },
          "metadata": {}
        }
      ]
    },
    {
      "cell_type": "code",
      "source": "",
      "metadata": {
        "id": "d6j_m9Uoe1kR"
      },
      "execution_count": null,
      "outputs": []
    },
    {
      "cell_type": "code",
      "source": "data[\"sepal_width\"]",
      "metadata": {
        "colab": {
          "base_uri": "https://localhost:8080/"
        },
        "id": "R4-2Zjb5e2MJ",
        "outputId": "070553bf-f1fa-4e79-d282-1239deb22204",
        "trusted": true
      },
      "execution_count": 6,
      "outputs": [
        {
          "execution_count": 6,
          "output_type": "execute_result",
          "data": {
            "text/plain": "0      3.5\n1      3.0\n2      3.2\n3      3.1\n4      3.6\n      ... \n145    3.0\n146    2.5\n147    3.0\n148    3.4\n149    3.0\nName: sepal_width, Length: 150, dtype: float64"
          },
          "metadata": {}
        }
      ]
    },
    {
      "cell_type": "code",
      "source": "",
      "metadata": {
        "id": "AAffDRHgfAan"
      },
      "execution_count": null,
      "outputs": []
    },
    {
      "cell_type": "markdown",
      "source": "実習：データののspecies列をとってください",
      "metadata": {
        "id": "QWaYnAn_fDAd"
      }
    },
    {
      "cell_type": "code",
      "source": "",
      "metadata": {
        "id": "Pmk4nGtEfCQZ"
      },
      "execution_count": null,
      "outputs": []
    },
    {
      "cell_type": "code",
      "source": "data[[\"petal_length\",\"sepal_length\"]]",
      "metadata": {
        "colab": {
          "base_uri": "https://localhost:8080/",
          "height": 419
        },
        "id": "hEbBZRvj1n5L",
        "outputId": "0a99dc14-4fd8-480b-9cb1-d251c84e4318",
        "trusted": true
      },
      "execution_count": 7,
      "outputs": [
        {
          "execution_count": 7,
          "output_type": "execute_result",
          "data": {
            "text/plain": "     petal_length  sepal_length\n0             1.4           5.1\n1             1.4           4.9\n2             1.3           4.7\n3             1.5           4.6\n4             1.4           5.0\n..            ...           ...\n145           5.2           6.7\n146           5.0           6.3\n147           5.2           6.5\n148           5.4           6.2\n149           5.1           5.9\n\n[150 rows x 2 columns]",
            "text/html": "<div>\n<style scoped>\n    .dataframe tbody tr th:only-of-type {\n        vertical-align: middle;\n    }\n\n    .dataframe tbody tr th {\n        vertical-align: top;\n    }\n\n    .dataframe thead th {\n        text-align: right;\n    }\n</style>\n<table border=\"1\" class=\"dataframe\">\n  <thead>\n    <tr style=\"text-align: right;\">\n      <th></th>\n      <th>petal_length</th>\n      <th>sepal_length</th>\n    </tr>\n  </thead>\n  <tbody>\n    <tr>\n      <th>0</th>\n      <td>1.4</td>\n      <td>5.1</td>\n    </tr>\n    <tr>\n      <th>1</th>\n      <td>1.4</td>\n      <td>4.9</td>\n    </tr>\n    <tr>\n      <th>2</th>\n      <td>1.3</td>\n      <td>4.7</td>\n    </tr>\n    <tr>\n      <th>3</th>\n      <td>1.5</td>\n      <td>4.6</td>\n    </tr>\n    <tr>\n      <th>4</th>\n      <td>1.4</td>\n      <td>5.0</td>\n    </tr>\n    <tr>\n      <th>...</th>\n      <td>...</td>\n      <td>...</td>\n    </tr>\n    <tr>\n      <th>145</th>\n      <td>5.2</td>\n      <td>6.7</td>\n    </tr>\n    <tr>\n      <th>146</th>\n      <td>5.0</td>\n      <td>6.3</td>\n    </tr>\n    <tr>\n      <th>147</th>\n      <td>5.2</td>\n      <td>6.5</td>\n    </tr>\n    <tr>\n      <th>148</th>\n      <td>5.4</td>\n      <td>6.2</td>\n    </tr>\n    <tr>\n      <th>149</th>\n      <td>5.1</td>\n      <td>5.9</td>\n    </tr>\n  </tbody>\n</table>\n<p>150 rows × 2 columns</p>\n</div>"
          },
          "metadata": {}
        }
      ]
    },
    {
      "cell_type": "markdown",
      "source": "実習：データの列の順番を\"species\",\"sepal_width\",\"petal_width\",\"sepal_length\",\"petal_length\"に変えてください",
      "metadata": {
        "id": "7dFd7W2b1vKM"
      }
    },
    {
      "cell_type": "code",
      "source": "",
      "metadata": {
        "id": "oc7syFcq2A44"
      },
      "execution_count": null,
      "outputs": []
    },
    {
      "cell_type": "code",
      "source": "data2 = data.copy()\ndata2.columns = [\"がく片の長さ\",\"がく片の広さ\",\"花びらの長さ\",\"花びらの広さ\",\"種類\"]\ndata2.head()",
      "metadata": {
        "id": "vIsYxd0m5lnL",
        "trusted": true
      },
      "execution_count": 8,
      "outputs": [
        {
          "execution_count": 8,
          "output_type": "execute_result",
          "data": {
            "text/plain": "   がく片の長さ  がく片の広さ  花びらの長さ  花びらの広さ      種類\n0     5.1     3.5     1.4     0.2  setosa\n1     4.9     3.0     1.4     0.2  setosa\n2     4.7     3.2     1.3     0.2  setosa\n3     4.6     3.1     1.5     0.2  setosa\n4     5.0     3.6     1.4     0.2  setosa",
            "text/html": "<div>\n<style scoped>\n    .dataframe tbody tr th:only-of-type {\n        vertical-align: middle;\n    }\n\n    .dataframe tbody tr th {\n        vertical-align: top;\n    }\n\n    .dataframe thead th {\n        text-align: right;\n    }\n</style>\n<table border=\"1\" class=\"dataframe\">\n  <thead>\n    <tr style=\"text-align: right;\">\n      <th></th>\n      <th>がく片の長さ</th>\n      <th>がく片の広さ</th>\n      <th>花びらの長さ</th>\n      <th>花びらの広さ</th>\n      <th>種類</th>\n    </tr>\n  </thead>\n  <tbody>\n    <tr>\n      <th>0</th>\n      <td>5.1</td>\n      <td>3.5</td>\n      <td>1.4</td>\n      <td>0.2</td>\n      <td>setosa</td>\n    </tr>\n    <tr>\n      <th>1</th>\n      <td>4.9</td>\n      <td>3.0</td>\n      <td>1.4</td>\n      <td>0.2</td>\n      <td>setosa</td>\n    </tr>\n    <tr>\n      <th>2</th>\n      <td>4.7</td>\n      <td>3.2</td>\n      <td>1.3</td>\n      <td>0.2</td>\n      <td>setosa</td>\n    </tr>\n    <tr>\n      <th>3</th>\n      <td>4.6</td>\n      <td>3.1</td>\n      <td>1.5</td>\n      <td>0.2</td>\n      <td>setosa</td>\n    </tr>\n    <tr>\n      <th>4</th>\n      <td>5.0</td>\n      <td>3.6</td>\n      <td>1.4</td>\n      <td>0.2</td>\n      <td>setosa</td>\n    </tr>\n  </tbody>\n</table>\n</div>"
          },
          "metadata": {}
        }
      ]
    },
    {
      "cell_type": "code",
      "source": "",
      "metadata": {
        "id": "zoufns6j5laR"
      },
      "execution_count": null,
      "outputs": []
    },
    {
      "cell_type": "markdown",
      "source": "実習：データををdata2という名前でコピーし、、data2の列名を[\"A\",\"B\",\"C\",\"D\",\"E\"]に変えてください",
      "metadata": {
        "id": "aXW9-UKw55rV"
      }
    },
    {
      "cell_type": "markdown",
      "source": "## 1-2 データの部分集合",
      "metadata": {
        "id": "9_z3yiOBekCQ"
      }
    },
    {
      "cell_type": "code",
      "source": "data.iloc[0,:]",
      "metadata": {
        "colab": {
          "base_uri": "https://localhost:8080/"
        },
        "id": "i7n1y0mCdyoV",
        "outputId": "a9f8335f-321c-47f5-95a6-0ee0c669c3ee",
        "trusted": true
      },
      "execution_count": 9,
      "outputs": [
        {
          "execution_count": 9,
          "output_type": "execute_result",
          "data": {
            "text/plain": "sepal_length       5.1\nsepal_width        3.5\npetal_length       1.4\npetal_width        0.2\nspecies         setosa\nName: 0, dtype: object"
          },
          "metadata": {}
        }
      ]
    },
    {
      "cell_type": "code",
      "source": "",
      "metadata": {
        "id": "LAaNToBCeHk9"
      },
      "execution_count": null,
      "outputs": []
    },
    {
      "cell_type": "code",
      "source": "data.iloc[:,2]",
      "metadata": {
        "colab": {
          "base_uri": "https://localhost:8080/"
        },
        "id": "LPpiF6dJd43C",
        "outputId": "fa1b9250-b7be-494e-a8e0-b7102d799fe7",
        "trusted": true
      },
      "execution_count": 10,
      "outputs": [
        {
          "execution_count": 10,
          "output_type": "execute_result",
          "data": {
            "text/plain": "0      1.4\n1      1.4\n2      1.3\n3      1.5\n4      1.4\n      ... \n145    5.2\n146    5.0\n147    5.2\n148    5.4\n149    5.1\nName: petal_length, Length: 150, dtype: float64"
          },
          "metadata": {}
        }
      ]
    },
    {
      "cell_type": "code",
      "source": "",
      "metadata": {
        "id": "JyawOOB3eIVv"
      },
      "execution_count": null,
      "outputs": []
    },
    {
      "cell_type": "markdown",
      "source": "実習：データの3から５行目、２列から５列までをとってください",
      "metadata": {
        "id": "E2o34B2AeOyX"
      }
    },
    {
      "cell_type": "code",
      "source": "",
      "metadata": {
        "id": "EQw8lzB7eKma"
      },
      "execution_count": null,
      "outputs": []
    },
    {
      "cell_type": "markdown",
      "source": "## 1-3 データの置き換え",
      "metadata": {
        "id": "Srhz6MB5fQJi"
      }
    },
    {
      "cell_type": "code",
      "source": "data2 = data.copy()\ndata2[\"NEW\"] = 1\ndata2.head()",
      "metadata": {
        "colab": {
          "base_uri": "https://localhost:8080/",
          "height": 204
        },
        "id": "tNKHIFLYeZJt",
        "outputId": "a840a006-b463-4af6-bee3-50fbb2dcbaf0",
        "trusted": true
      },
      "execution_count": 11,
      "outputs": [
        {
          "execution_count": 11,
          "output_type": "execute_result",
          "data": {
            "text/plain": "   sepal_length  sepal_width  petal_length  petal_width species  NEW\n0           5.1          3.5           1.4          0.2  setosa    1\n1           4.9          3.0           1.4          0.2  setosa    1\n2           4.7          3.2           1.3          0.2  setosa    1\n3           4.6          3.1           1.5          0.2  setosa    1\n4           5.0          3.6           1.4          0.2  setosa    1",
            "text/html": "<div>\n<style scoped>\n    .dataframe tbody tr th:only-of-type {\n        vertical-align: middle;\n    }\n\n    .dataframe tbody tr th {\n        vertical-align: top;\n    }\n\n    .dataframe thead th {\n        text-align: right;\n    }\n</style>\n<table border=\"1\" class=\"dataframe\">\n  <thead>\n    <tr style=\"text-align: right;\">\n      <th></th>\n      <th>sepal_length</th>\n      <th>sepal_width</th>\n      <th>petal_length</th>\n      <th>petal_width</th>\n      <th>species</th>\n      <th>NEW</th>\n    </tr>\n  </thead>\n  <tbody>\n    <tr>\n      <th>0</th>\n      <td>5.1</td>\n      <td>3.5</td>\n      <td>1.4</td>\n      <td>0.2</td>\n      <td>setosa</td>\n      <td>1</td>\n    </tr>\n    <tr>\n      <th>1</th>\n      <td>4.9</td>\n      <td>3.0</td>\n      <td>1.4</td>\n      <td>0.2</td>\n      <td>setosa</td>\n      <td>1</td>\n    </tr>\n    <tr>\n      <th>2</th>\n      <td>4.7</td>\n      <td>3.2</td>\n      <td>1.3</td>\n      <td>0.2</td>\n      <td>setosa</td>\n      <td>1</td>\n    </tr>\n    <tr>\n      <th>3</th>\n      <td>4.6</td>\n      <td>3.1</td>\n      <td>1.5</td>\n      <td>0.2</td>\n      <td>setosa</td>\n      <td>1</td>\n    </tr>\n    <tr>\n      <th>4</th>\n      <td>5.0</td>\n      <td>3.6</td>\n      <td>1.4</td>\n      <td>0.2</td>\n      <td>setosa</td>\n      <td>1</td>\n    </tr>\n  </tbody>\n</table>\n</div>"
          },
          "metadata": {}
        }
      ]
    },
    {
      "cell_type": "code",
      "source": "",
      "metadata": {
        "id": "02u7qOp4fiJA"
      },
      "execution_count": null,
      "outputs": []
    },
    {
      "cell_type": "code",
      "source": "data2 = data.copy()\ndata2[\"sepal_width\"] = -100\ndata2.head()",
      "metadata": {
        "colab": {
          "base_uri": "https://localhost:8080/",
          "height": 204
        },
        "id": "C9tI-g3NfnPv",
        "outputId": "83a598d2-db84-4138-e615-45ef4b0fcdc4",
        "trusted": true
      },
      "execution_count": 12,
      "outputs": [
        {
          "execution_count": 12,
          "output_type": "execute_result",
          "data": {
            "text/plain": "   sepal_length  sepal_width  petal_length  petal_width species\n0           5.1         -100           1.4          0.2  setosa\n1           4.9         -100           1.4          0.2  setosa\n2           4.7         -100           1.3          0.2  setosa\n3           4.6         -100           1.5          0.2  setosa\n4           5.0         -100           1.4          0.2  setosa",
            "text/html": "<div>\n<style scoped>\n    .dataframe tbody tr th:only-of-type {\n        vertical-align: middle;\n    }\n\n    .dataframe tbody tr th {\n        vertical-align: top;\n    }\n\n    .dataframe thead th {\n        text-align: right;\n    }\n</style>\n<table border=\"1\" class=\"dataframe\">\n  <thead>\n    <tr style=\"text-align: right;\">\n      <th></th>\n      <th>sepal_length</th>\n      <th>sepal_width</th>\n      <th>petal_length</th>\n      <th>petal_width</th>\n      <th>species</th>\n    </tr>\n  </thead>\n  <tbody>\n    <tr>\n      <th>0</th>\n      <td>5.1</td>\n      <td>-100</td>\n      <td>1.4</td>\n      <td>0.2</td>\n      <td>setosa</td>\n    </tr>\n    <tr>\n      <th>1</th>\n      <td>4.9</td>\n      <td>-100</td>\n      <td>1.4</td>\n      <td>0.2</td>\n      <td>setosa</td>\n    </tr>\n    <tr>\n      <th>2</th>\n      <td>4.7</td>\n      <td>-100</td>\n      <td>1.3</td>\n      <td>0.2</td>\n      <td>setosa</td>\n    </tr>\n    <tr>\n      <th>3</th>\n      <td>4.6</td>\n      <td>-100</td>\n      <td>1.5</td>\n      <td>0.2</td>\n      <td>setosa</td>\n    </tr>\n    <tr>\n      <th>4</th>\n      <td>5.0</td>\n      <td>-100</td>\n      <td>1.4</td>\n      <td>0.2</td>\n      <td>setosa</td>\n    </tr>\n  </tbody>\n</table>\n</div>"
          },
          "metadata": {}
        }
      ]
    },
    {
      "cell_type": "code",
      "source": "",
      "metadata": {
        "id": "l_FuANr6fm6b"
      },
      "execution_count": null,
      "outputs": []
    },
    {
      "cell_type": "markdown",
      "source": "実習：データををdata2という名前でコピーし、data2に新しい列\"A\"を追加してください。\"A\"列の全ての値は文字列\"abcd\"にしてください",
      "metadata": {
        "id": "j7r9kGO00_V7"
      }
    },
    {
      "cell_type": "code",
      "source": "",
      "metadata": {
        "id": "LvbliwCQ8TDi"
      },
      "execution_count": null,
      "outputs": []
    },
    {
      "cell_type": "code",
      "source": "data2 = data.copy()\ndata2[\"petal_width100\"] = data2[\"petal_width\"]*100\ndata2.head()",
      "metadata": {
        "colab": {
          "base_uri": "https://localhost:8080/",
          "height": 204
        },
        "id": "i4T9UO0f1Sbp",
        "outputId": "53ca50f1-7e85-4346-8532-9071f2e8e29c",
        "trusted": true
      },
      "execution_count": 13,
      "outputs": [
        {
          "execution_count": 13,
          "output_type": "execute_result",
          "data": {
            "text/plain": "   sepal_length  sepal_width  petal_length  petal_width species  \\\n0           5.1          3.5           1.4          0.2  setosa   \n1           4.9          3.0           1.4          0.2  setosa   \n2           4.7          3.2           1.3          0.2  setosa   \n3           4.6          3.1           1.5          0.2  setosa   \n4           5.0          3.6           1.4          0.2  setosa   \n\n   petal_width100  \n0            20.0  \n1            20.0  \n2            20.0  \n3            20.0  \n4            20.0  ",
            "text/html": "<div>\n<style scoped>\n    .dataframe tbody tr th:only-of-type {\n        vertical-align: middle;\n    }\n\n    .dataframe tbody tr th {\n        vertical-align: top;\n    }\n\n    .dataframe thead th {\n        text-align: right;\n    }\n</style>\n<table border=\"1\" class=\"dataframe\">\n  <thead>\n    <tr style=\"text-align: right;\">\n      <th></th>\n      <th>sepal_length</th>\n      <th>sepal_width</th>\n      <th>petal_length</th>\n      <th>petal_width</th>\n      <th>species</th>\n      <th>petal_width100</th>\n    </tr>\n  </thead>\n  <tbody>\n    <tr>\n      <th>0</th>\n      <td>5.1</td>\n      <td>3.5</td>\n      <td>1.4</td>\n      <td>0.2</td>\n      <td>setosa</td>\n      <td>20.0</td>\n    </tr>\n    <tr>\n      <th>1</th>\n      <td>4.9</td>\n      <td>3.0</td>\n      <td>1.4</td>\n      <td>0.2</td>\n      <td>setosa</td>\n      <td>20.0</td>\n    </tr>\n    <tr>\n      <th>2</th>\n      <td>4.7</td>\n      <td>3.2</td>\n      <td>1.3</td>\n      <td>0.2</td>\n      <td>setosa</td>\n      <td>20.0</td>\n    </tr>\n    <tr>\n      <th>3</th>\n      <td>4.6</td>\n      <td>3.1</td>\n      <td>1.5</td>\n      <td>0.2</td>\n      <td>setosa</td>\n      <td>20.0</td>\n    </tr>\n    <tr>\n      <th>4</th>\n      <td>5.0</td>\n      <td>3.6</td>\n      <td>1.4</td>\n      <td>0.2</td>\n      <td>setosa</td>\n      <td>20.0</td>\n    </tr>\n  </tbody>\n</table>\n</div>"
          },
          "metadata": {}
        }
      ]
    },
    {
      "cell_type": "code",
      "source": "",
      "metadata": {
        "id": "Y2FvcdtX4xuu"
      },
      "execution_count": null,
      "outputs": []
    },
    {
      "cell_type": "code",
      "source": "import numpy as np\n\ndata2 = data.copy()\ndata2[\"sepal_length_log\"] = np.log(data2[\"sepal_length\"])\ndata2.head()",
      "metadata": {
        "colab": {
          "base_uri": "https://localhost:8080/",
          "height": 204
        },
        "id": "IqhBObkB42Vk",
        "outputId": "936ded34-3f34-47d4-cdd7-4b2c3710963e",
        "trusted": true
      },
      "execution_count": 14,
      "outputs": [
        {
          "execution_count": 14,
          "output_type": "execute_result",
          "data": {
            "text/plain": "   sepal_length  sepal_width  petal_length  petal_width species  \\\n0           5.1          3.5           1.4          0.2  setosa   \n1           4.9          3.0           1.4          0.2  setosa   \n2           4.7          3.2           1.3          0.2  setosa   \n3           4.6          3.1           1.5          0.2  setosa   \n4           5.0          3.6           1.4          0.2  setosa   \n\n   sepal_length_log  \n0          1.629241  \n1          1.589235  \n2          1.547563  \n3          1.526056  \n4          1.609438  ",
            "text/html": "<div>\n<style scoped>\n    .dataframe tbody tr th:only-of-type {\n        vertical-align: middle;\n    }\n\n    .dataframe tbody tr th {\n        vertical-align: top;\n    }\n\n    .dataframe thead th {\n        text-align: right;\n    }\n</style>\n<table border=\"1\" class=\"dataframe\">\n  <thead>\n    <tr style=\"text-align: right;\">\n      <th></th>\n      <th>sepal_length</th>\n      <th>sepal_width</th>\n      <th>petal_length</th>\n      <th>petal_width</th>\n      <th>species</th>\n      <th>sepal_length_log</th>\n    </tr>\n  </thead>\n  <tbody>\n    <tr>\n      <th>0</th>\n      <td>5.1</td>\n      <td>3.5</td>\n      <td>1.4</td>\n      <td>0.2</td>\n      <td>setosa</td>\n      <td>1.629241</td>\n    </tr>\n    <tr>\n      <th>1</th>\n      <td>4.9</td>\n      <td>3.0</td>\n      <td>1.4</td>\n      <td>0.2</td>\n      <td>setosa</td>\n      <td>1.589235</td>\n    </tr>\n    <tr>\n      <th>2</th>\n      <td>4.7</td>\n      <td>3.2</td>\n      <td>1.3</td>\n      <td>0.2</td>\n      <td>setosa</td>\n      <td>1.547563</td>\n    </tr>\n    <tr>\n      <th>3</th>\n      <td>4.6</td>\n      <td>3.1</td>\n      <td>1.5</td>\n      <td>0.2</td>\n      <td>setosa</td>\n      <td>1.526056</td>\n    </tr>\n    <tr>\n      <th>4</th>\n      <td>5.0</td>\n      <td>3.6</td>\n      <td>1.4</td>\n      <td>0.2</td>\n      <td>setosa</td>\n      <td>1.609438</td>\n    </tr>\n  </tbody>\n</table>\n</div>"
          },
          "metadata": {}
        }
      ]
    },
    {
      "cell_type": "code",
      "source": "",
      "metadata": {
        "colab": {
          "base_uri": "https://localhost:8080/"
        },
        "id": "OGl17C3a41yy",
        "outputId": "2221715e-3e6b-496c-a701-dc9955d45de1"
      },
      "execution_count": null,
      "outputs": []
    },
    {
      "cell_type": "markdown",
      "source": "実習：データをdata2という名前でコピーし、data2の\"sepal_width\"列にnp.sin()関数を適用して\"sepal_width_sin\"という名前の列で追加してください\n\n",
      "metadata": {
        "id": "qw_VmPs-4y5u"
      }
    },
    {
      "cell_type": "code",
      "source": "",
      "metadata": {
        "id": "psGOlGci6Fty"
      },
      "execution_count": null,
      "outputs": []
    },
    {
      "cell_type": "code",
      "source": "d = {\"あ\":\"A\"}\nd[\"あ\"]",
      "metadata": {
        "colab": {
          "base_uri": "https://localhost:8080/",
          "height": 37
        },
        "id": "hFKZIbje6fWx",
        "outputId": "fdbe0c20-c501-4724-ca34-426a2b202179",
        "trusted": true
      },
      "execution_count": 15,
      "outputs": [
        {
          "execution_count": 15,
          "output_type": "execute_result",
          "data": {
            "text/plain": "'A'"
          },
          "metadata": {}
        }
      ]
    },
    {
      "cell_type": "code",
      "source": "",
      "metadata": {
        "id": "KZR88PGQ6lH0"
      },
      "execution_count": null,
      "outputs": []
    },
    {
      "cell_type": "code",
      "source": "d = {\"あ\":\"A\",\"い\":\"I\",\"う\":\"U\",\"え\":\"E\",\"お\":\"O\"}\nprint(d[\"あ\"],d[\"い\"],d[\"う\"],d[\"え\"],d[\"お\"])",
      "metadata": {
        "colab": {
          "base_uri": "https://localhost:8080/"
        },
        "id": "ICauwPGW6lhp",
        "outputId": "e8ef1942-46b9-4ec1-f2ec-e79d489de0a1",
        "trusted": true
      },
      "execution_count": 16,
      "outputs": [
        {
          "name": "stdout",
          "text": "A I U E O\n",
          "output_type": "stream"
        }
      ]
    },
    {
      "cell_type": "code",
      "source": "",
      "metadata": {
        "id": "BjrF6msZ6mMN"
      },
      "execution_count": null,
      "outputs": []
    },
    {
      "cell_type": "code",
      "source": "print(data[\"species\"].unique())\ndata[\"species\"].replace({\"setosa\":\"せとさ\",\"versicolor\":\"ばーしからー\",\"virginica\":\"ばーじにか\"})",
      "metadata": {
        "colab": {
          "base_uri": "https://localhost:8080/"
        },
        "id": "DMpp7hwK6Qpm",
        "outputId": "cf54fbd5-2409-4be0-ad42-2daf4fe701c8",
        "trusted": true
      },
      "execution_count": 17,
      "outputs": [
        {
          "name": "stdout",
          "text": "['setosa' 'versicolor' 'virginica']\n",
          "output_type": "stream"
        },
        {
          "execution_count": 17,
          "output_type": "execute_result",
          "data": {
            "text/plain": "0        せとさ\n1        せとさ\n2        せとさ\n3        せとさ\n4        せとさ\n       ...  \n145    ばーじにか\n146    ばーじにか\n147    ばーじにか\n148    ばーじにか\n149    ばーじにか\nName: species, Length: 150, dtype: object"
          },
          "metadata": {}
        }
      ]
    },
    {
      "cell_type": "code",
      "source": "",
      "metadata": {
        "id": "_HsQkuZD69Sj"
      },
      "execution_count": null,
      "outputs": []
    },
    {
      "cell_type": "code",
      "source": "data2 = data.copy()\ndata2[\"species\"] = data2[\"species\"].replace({\"setosa\":\"せとさ\",\"versicolor\":\"ばーしからー\",\"virginica\":\"ばーじにか\"})\ndata2.head()",
      "metadata": {
        "id": "X1R7kijw7WF0",
        "trusted": true
      },
      "execution_count": 18,
      "outputs": [
        {
          "execution_count": 18,
          "output_type": "execute_result",
          "data": {
            "text/plain": "   sepal_length  sepal_width  petal_length  petal_width species\n0           5.1          3.5           1.4          0.2     せとさ\n1           4.9          3.0           1.4          0.2     せとさ\n2           4.7          3.2           1.3          0.2     せとさ\n3           4.6          3.1           1.5          0.2     せとさ\n4           5.0          3.6           1.4          0.2     せとさ",
            "text/html": "<div>\n<style scoped>\n    .dataframe tbody tr th:only-of-type {\n        vertical-align: middle;\n    }\n\n    .dataframe tbody tr th {\n        vertical-align: top;\n    }\n\n    .dataframe thead th {\n        text-align: right;\n    }\n</style>\n<table border=\"1\" class=\"dataframe\">\n  <thead>\n    <tr style=\"text-align: right;\">\n      <th></th>\n      <th>sepal_length</th>\n      <th>sepal_width</th>\n      <th>petal_length</th>\n      <th>petal_width</th>\n      <th>species</th>\n    </tr>\n  </thead>\n  <tbody>\n    <tr>\n      <th>0</th>\n      <td>5.1</td>\n      <td>3.5</td>\n      <td>1.4</td>\n      <td>0.2</td>\n      <td>せとさ</td>\n    </tr>\n    <tr>\n      <th>1</th>\n      <td>4.9</td>\n      <td>3.0</td>\n      <td>1.4</td>\n      <td>0.2</td>\n      <td>せとさ</td>\n    </tr>\n    <tr>\n      <th>2</th>\n      <td>4.7</td>\n      <td>3.2</td>\n      <td>1.3</td>\n      <td>0.2</td>\n      <td>せとさ</td>\n    </tr>\n    <tr>\n      <th>3</th>\n      <td>4.6</td>\n      <td>3.1</td>\n      <td>1.5</td>\n      <td>0.2</td>\n      <td>せとさ</td>\n    </tr>\n    <tr>\n      <th>4</th>\n      <td>5.0</td>\n      <td>3.6</td>\n      <td>1.4</td>\n      <td>0.2</td>\n      <td>せとさ</td>\n    </tr>\n  </tbody>\n</table>\n</div>"
          },
          "metadata": {}
        }
      ]
    },
    {
      "cell_type": "code",
      "source": "",
      "metadata": {
        "id": "MBC8aSTd7cq_"
      },
      "execution_count": null,
      "outputs": []
    },
    {
      "cell_type": "markdown",
      "source": "実習：データをdata2という名前でコピーし、、data2の\"species\"列の値を置き換えてください。\"setosa\"は\"S\"、\"versicolor\"は\"C\",\"virginica\"は\"V\"に置き換えてください",
      "metadata": {
        "id": "reXKZuhR7dQ8"
      }
    },
    {
      "cell_type": "code",
      "source": "",
      "metadata": {
        "id": "rKxwjqFk7dml"
      },
      "execution_count": null,
      "outputs": []
    },
    {
      "cell_type": "markdown",
      "source": "## 2 実習：CPSデータ\n\n",
      "metadata": {
        "id": "bAO0Pclq6GJ6"
      }
    },
    {
      "cell_type": "code",
      "source": "data = pd.read_csv(pyodide.open_url(\"https://raw.githubusercontent.com/ChungWookyung/kg-jupyterlite-data-analysis/main/content/DATA/CPS1988.csv\"))\ndata.head()",
      "metadata": {
        "colab": {
          "base_uri": "https://localhost:8080/",
          "height": 204
        },
        "id": "l6tD_ykI8MYT",
        "outputId": "a6d88b19-0cb7-4d7d-d933-9ba9c65f1b6f",
        "trusted": true
      },
      "execution_count": 19,
      "outputs": [
        {
          "execution_count": 19,
          "output_type": "execute_result",
          "data": {
            "text/plain": "     wage  education  experience ethnicity smsa     region parttime\n0  354.94          7          45      cauc  yes  northeast       no\n1  123.46         12           1      cauc  yes  northeast      yes\n2  370.37          9           9      cauc  yes  northeast       no\n3  754.94         11          46      cauc  yes  northeast       no\n4  593.54         12          36      cauc  yes  northeast       no",
            "text/html": "<div>\n<style scoped>\n    .dataframe tbody tr th:only-of-type {\n        vertical-align: middle;\n    }\n\n    .dataframe tbody tr th {\n        vertical-align: top;\n    }\n\n    .dataframe thead th {\n        text-align: right;\n    }\n</style>\n<table border=\"1\" class=\"dataframe\">\n  <thead>\n    <tr style=\"text-align: right;\">\n      <th></th>\n      <th>wage</th>\n      <th>education</th>\n      <th>experience</th>\n      <th>ethnicity</th>\n      <th>smsa</th>\n      <th>region</th>\n      <th>parttime</th>\n    </tr>\n  </thead>\n  <tbody>\n    <tr>\n      <th>0</th>\n      <td>354.94</td>\n      <td>7</td>\n      <td>45</td>\n      <td>cauc</td>\n      <td>yes</td>\n      <td>northeast</td>\n      <td>no</td>\n    </tr>\n    <tr>\n      <th>1</th>\n      <td>123.46</td>\n      <td>12</td>\n      <td>1</td>\n      <td>cauc</td>\n      <td>yes</td>\n      <td>northeast</td>\n      <td>yes</td>\n    </tr>\n    <tr>\n      <th>2</th>\n      <td>370.37</td>\n      <td>9</td>\n      <td>9</td>\n      <td>cauc</td>\n      <td>yes</td>\n      <td>northeast</td>\n      <td>no</td>\n    </tr>\n    <tr>\n      <th>3</th>\n      <td>754.94</td>\n      <td>11</td>\n      <td>46</td>\n      <td>cauc</td>\n      <td>yes</td>\n      <td>northeast</td>\n      <td>no</td>\n    </tr>\n    <tr>\n      <th>4</th>\n      <td>593.54</td>\n      <td>12</td>\n      <td>36</td>\n      <td>cauc</td>\n      <td>yes</td>\n      <td>northeast</td>\n      <td>no</td>\n    </tr>\n  </tbody>\n</table>\n</div>"
          },
          "metadata": {}
        }
      ]
    },
    {
      "cell_type": "code",
      "source": "data[\"region\"].unique()",
      "metadata": {
        "colab": {
          "base_uri": "https://localhost:8080/"
        },
        "id": "HkulEVvb-cM2",
        "outputId": "4dc5e988-515a-42c0-8333-775d42343e2e",
        "trusted": true
      },
      "execution_count": 20,
      "outputs": [
        {
          "execution_count": 20,
          "output_type": "execute_result",
          "data": {
            "text/plain": "array(['northeast', 'midwest', 'south', 'west'], dtype=object)"
          },
          "metadata": {}
        }
      ]
    },
    {
      "cell_type": "markdown",
      "source": "実習：データをdata2という名前にコピーしてください。次に、data2の列名を日本語に置き換えてください(smsaは\"都心部\"という日本語で訳してください)",
      "metadata": {
        "id": "JQHw0Us29IRB"
      }
    },
    {
      "cell_type": "code",
      "source": "",
      "metadata": {
        "id": "Vkp4Yvmb9cUC"
      },
      "execution_count": null,
      "outputs": []
    },
    {
      "cell_type": "markdown",
      "source": "実習：データををdata2という名前にコピーしてください。次に、data2の\"wage\"列にnp.log()関数を適用し、\"wage_log\"という新しい列でセーブしてください",
      "metadata": {
        "id": "6bJ6VdaR9c07"
      }
    },
    {
      "cell_type": "code",
      "source": "",
      "metadata": {
        "id": "6vgDdm2_9wLq"
      },
      "execution_count": null,
      "outputs": []
    },
    {
      "cell_type": "markdown",
      "source": "実習：データををdata2という名前にコピーしてください。次に、data2の\"ethnicity\"における、\"cauc\"の値を\"白人\"に、\"afam\"の値を\"黒人\"に置き換えてください",
      "metadata": {
        "id": "eYWBmZ4-9wlt"
      }
    },
    {
      "cell_type": "code",
      "source": "",
      "metadata": {
        "id": "zK2y1kqE-QqS"
      },
      "execution_count": null,
      "outputs": []
    },
    {
      "cell_type": "markdown",
      "source": "実習：データををdata2という名前にコピーしてください。次に、data2の\"smsa\"列と\"parttime\"列の値を\"yes\"は\"はい\"で、\"no\"は\"いいえ\"で置き換えてください",
      "metadata": {
        "id": "ZUHgFnk9-RAj"
      }
    },
    {
      "cell_type": "code",
      "source": "",
      "metadata": {
        "id": "48Slytv7-1z4"
      },
      "execution_count": null,
      "outputs": []
    },
    {
      "cell_type": "markdown",
      "source": "実習：データををdata2という名前にコピーしてください。次に、data2の\"region\"列の値を日本語に翻訳して置き換えてください",
      "metadata": {
        "id": "_UcHllgf-2T-"
      }
    },
    {
      "cell_type": "code",
      "source": "",
      "metadata": {
        "id": "zQLnCef8_AcW"
      },
      "execution_count": null,
      "outputs": []
    },
    {
      "cell_type": "markdown",
      "source": "## 3-1 Datetime形式",
      "metadata": {
        "id": "eoXB6Kdt_BKK"
      }
    },
    {
      "cell_type": "code",
      "source": "pd.date_range(start=\"2000/01/01\", end=\"2030/01/01\")",
      "metadata": {
        "colab": {
          "base_uri": "https://localhost:8080/"
        },
        "id": "GsQMKlFYHqD9",
        "outputId": "4592fdaa-eb4e-470f-b622-85d2c9c102e8",
        "trusted": true
      },
      "execution_count": 21,
      "outputs": [
        {
          "execution_count": 21,
          "output_type": "execute_result",
          "data": {
            "text/plain": "DatetimeIndex(['2000-01-01', '2000-01-02', '2000-01-03', '2000-01-04',\n               '2000-01-05', '2000-01-06', '2000-01-07', '2000-01-08',\n               '2000-01-09', '2000-01-10',\n               ...\n               '2029-12-23', '2029-12-24', '2029-12-25', '2029-12-26',\n               '2029-12-27', '2029-12-28', '2029-12-29', '2029-12-30',\n               '2029-12-31', '2030-01-01'],\n              dtype='datetime64[ns]', length=10959, freq='D')"
          },
          "metadata": {}
        }
      ]
    },
    {
      "cell_type": "code",
      "source": "",
      "metadata": {
        "id": "vl033vraOamb"
      },
      "execution_count": null,
      "outputs": []
    },
    {
      "cell_type": "code",
      "source": "pd.date_range(start=\"2000/01/01\", periods=365)",
      "metadata": {
        "colab": {
          "base_uri": "https://localhost:8080/"
        },
        "id": "lBLn4gGvKX8O",
        "outputId": "247801db-f423-4bca-92c8-a9da33467fed",
        "trusted": true
      },
      "execution_count": 22,
      "outputs": [
        {
          "execution_count": 22,
          "output_type": "execute_result",
          "data": {
            "text/plain": "DatetimeIndex(['2000-01-01', '2000-01-02', '2000-01-03', '2000-01-04',\n               '2000-01-05', '2000-01-06', '2000-01-07', '2000-01-08',\n               '2000-01-09', '2000-01-10',\n               ...\n               '2000-12-21', '2000-12-22', '2000-12-23', '2000-12-24',\n               '2000-12-25', '2000-12-26', '2000-12-27', '2000-12-28',\n               '2000-12-29', '2000-12-30'],\n              dtype='datetime64[ns]', length=365, freq='D')"
          },
          "metadata": {}
        }
      ]
    },
    {
      "cell_type": "code",
      "source": "",
      "metadata": {
        "id": "7hQ6B4VYObE0"
      },
      "execution_count": null,
      "outputs": []
    },
    {
      "cell_type": "code",
      "source": "pd.date_range(start=\"2000/01/01\", periods=12, freq=\"M\")",
      "metadata": {
        "colab": {
          "base_uri": "https://localhost:8080/"
        },
        "id": "FrAdIDDLKeQw",
        "outputId": "484d8b0d-3de2-44ea-ee2b-9af2c9ceee61",
        "trusted": true
      },
      "execution_count": 23,
      "outputs": [
        {
          "execution_count": 23,
          "output_type": "execute_result",
          "data": {
            "text/plain": "DatetimeIndex(['2000-01-31', '2000-02-29', '2000-03-31', '2000-04-30',\n               '2000-05-31', '2000-06-30', '2000-07-31', '2000-08-31',\n               '2000-09-30', '2000-10-31', '2000-11-30', '2000-12-31'],\n              dtype='datetime64[ns]', freq='M')"
          },
          "metadata": {}
        }
      ]
    },
    {
      "cell_type": "code",
      "source": "",
      "metadata": {
        "id": "eX-O5iSFObgv"
      },
      "execution_count": null,
      "outputs": []
    },
    {
      "cell_type": "code",
      "source": "pd.date_range(start=\"2000/01/01\", periods=10, freq=\"Y\")",
      "metadata": {
        "colab": {
          "base_uri": "https://localhost:8080/"
        },
        "id": "zT_uPygGKj2L",
        "outputId": "51a452ef-a243-4351-b2bc-87d93e114705",
        "trusted": true
      },
      "execution_count": 24,
      "outputs": [
        {
          "execution_count": 24,
          "output_type": "execute_result",
          "data": {
            "text/plain": "DatetimeIndex(['2000-12-31', '2001-12-31', '2002-12-31', '2003-12-31',\n               '2004-12-31', '2005-12-31', '2006-12-31', '2007-12-31',\n               '2008-12-31', '2009-12-31'],\n              dtype='datetime64[ns]', freq='A-DEC')"
          },
          "metadata": {}
        }
      ]
    },
    {
      "cell_type": "code",
      "source": "",
      "metadata": {
        "id": "EZkCCgkwOb9G"
      },
      "execution_count": null,
      "outputs": []
    },
    {
      "cell_type": "code",
      "source": "pd.date_range(start=\"2000/01/01\", periods=12, freq=\"MS\")",
      "metadata": {
        "colab": {
          "base_uri": "https://localhost:8080/"
        },
        "id": "feVdUxIHKu6S",
        "outputId": "45d43d0c-d263-4b1c-92fb-04847009ce33",
        "trusted": true
      },
      "execution_count": 25,
      "outputs": [
        {
          "execution_count": 25,
          "output_type": "execute_result",
          "data": {
            "text/plain": "DatetimeIndex(['2000-01-01', '2000-02-01', '2000-03-01', '2000-04-01',\n               '2000-05-01', '2000-06-01', '2000-07-01', '2000-08-01',\n               '2000-09-01', '2000-10-01', '2000-11-01', '2000-12-01'],\n              dtype='datetime64[ns]', freq='MS')"
          },
          "metadata": {}
        }
      ]
    },
    {
      "cell_type": "code",
      "source": "",
      "metadata": {
        "id": "uG15mvVfOcpD"
      },
      "execution_count": null,
      "outputs": []
    },
    {
      "cell_type": "code",
      "source": "pd.date_range(start=\"2000/01/01\", periods=10, freq=\"YS\")",
      "metadata": {
        "colab": {
          "base_uri": "https://localhost:8080/"
        },
        "id": "JfCgeVeOK7mu",
        "outputId": "a63371ae-a8e0-421e-a70b-99f2a443869e",
        "trusted": true
      },
      "execution_count": 26,
      "outputs": [
        {
          "execution_count": 26,
          "output_type": "execute_result",
          "data": {
            "text/plain": "DatetimeIndex(['2000-01-01', '2001-01-01', '2002-01-01', '2003-01-01',\n               '2004-01-01', '2005-01-01', '2006-01-01', '2007-01-01',\n               '2008-01-01', '2009-01-01'],\n              dtype='datetime64[ns]', freq='AS-JAN')"
          },
          "metadata": {}
        }
      ]
    },
    {
      "cell_type": "code",
      "source": "",
      "metadata": {
        "id": "lL0ZTvnFOdP1"
      },
      "execution_count": null,
      "outputs": []
    },
    {
      "cell_type": "markdown",
      "source": "実習：2010年6月1日から今日まで、毎日のdatetimeを生成してください",
      "metadata": {
        "id": "JbA6IHYxNS4q"
      }
    },
    {
      "cell_type": "code",
      "source": "",
      "metadata": {
        "id": "D7pkqeDHNlW5"
      },
      "execution_count": null,
      "outputs": []
    },
    {
      "cell_type": "markdown",
      "source": "実習：あなたの誕生日から20年間まで、毎月のdatetimeを生成してください",
      "metadata": {
        "id": "5UjAVss6Nl1u"
      }
    },
    {
      "cell_type": "code",
      "source": "",
      "metadata": {
        "id": "aoyYPPTzNysl"
      },
      "execution_count": null,
      "outputs": []
    },
    {
      "cell_type": "markdown",
      "source": "実習：1990年3月1日から今年まで、毎年のdatetimeを生成してください。その時、毎年の1月1日が基準になります。",
      "metadata": {
        "id": "pOMDHHZ6NzUx"
      }
    },
    {
      "cell_type": "code",
      "source": "",
      "metadata": {
        "id": "wO_0R4LgOEpH"
      },
      "execution_count": null,
      "outputs": []
    },
    {
      "cell_type": "markdown",
      "source": "## 3-2 文字列への変換",
      "metadata": {
        "id": "2VH8IhaWOGfs"
      }
    },
    {
      "cell_type": "code",
      "source": "d = pd.date_range(start=\"2000/01/01\", end=\"2030/01/01\")\nd.year",
      "metadata": {
        "colab": {
          "base_uri": "https://localhost:8080/"
        },
        "id": "BIQfJZGmONOR",
        "outputId": "cbd7ccc6-23a6-49ae-e046-f8aaa979fcf5",
        "trusted": true
      },
      "execution_count": 27,
      "outputs": [
        {
          "execution_count": 27,
          "output_type": "execute_result",
          "data": {
            "text/plain": "Int64Index([2000, 2000, 2000, 2000, 2000, 2000, 2000, 2000, 2000, 2000,\n            ...\n            2029, 2029, 2029, 2029, 2029, 2029, 2029, 2029, 2029, 2030],\n           dtype='int64', length=10959)"
          },
          "metadata": {}
        }
      ]
    },
    {
      "cell_type": "code",
      "source": "",
      "metadata": {
        "id": "fewBNBGeOe-h"
      },
      "execution_count": null,
      "outputs": []
    },
    {
      "cell_type": "code",
      "source": "d.month",
      "metadata": {
        "colab": {
          "base_uri": "https://localhost:8080/"
        },
        "id": "qOBzl1pQOXHb",
        "outputId": "fbdbe579-5206-453f-c6bf-8c20d7fb86f6",
        "trusted": true
      },
      "execution_count": 28,
      "outputs": [
        {
          "execution_count": 28,
          "output_type": "execute_result",
          "data": {
            "text/plain": "Int64Index([ 1,  1,  1,  1,  1,  1,  1,  1,  1,  1,\n            ...\n            12, 12, 12, 12, 12, 12, 12, 12, 12,  1],\n           dtype='int64', length=10959)"
          },
          "metadata": {}
        }
      ]
    },
    {
      "cell_type": "code",
      "source": "",
      "metadata": {
        "id": "J1Qp_-z0OfkO"
      },
      "execution_count": null,
      "outputs": []
    },
    {
      "cell_type": "code",
      "source": "d.day",
      "metadata": {
        "colab": {
          "base_uri": "https://localhost:8080/"
        },
        "id": "vnIdeChEOZLH",
        "outputId": "a610d28a-066c-4f84-a8a4-07cfc878a701",
        "trusted": true
      },
      "execution_count": 29,
      "outputs": [
        {
          "execution_count": 29,
          "output_type": "execute_result",
          "data": {
            "text/plain": "Int64Index([ 1,  2,  3,  4,  5,  6,  7,  8,  9, 10,\n            ...\n            23, 24, 25, 26, 27, 28, 29, 30, 31,  1],\n           dtype='int64', length=10959)"
          },
          "metadata": {}
        }
      ]
    },
    {
      "cell_type": "code",
      "source": "",
      "metadata": {
        "id": "lsg70fJAOi15"
      },
      "execution_count": null,
      "outputs": []
    },
    {
      "cell_type": "code",
      "source": "data = pd.DataFrame({\"Date\":d,\"Value\":1})\ndata.head()",
      "metadata": {
        "colab": {
          "base_uri": "https://localhost:8080/",
          "height": 204
        },
        "id": "XqSvu7xYOk2c",
        "outputId": "3b3a6d29-f73e-4210-da41-fceb397d5ea1",
        "trusted": true
      },
      "execution_count": 30,
      "outputs": [
        {
          "execution_count": 30,
          "output_type": "execute_result",
          "data": {
            "text/plain": "        Date  Value\n0 2000-01-01      1\n1 2000-01-02      1\n2 2000-01-03      1\n3 2000-01-04      1\n4 2000-01-05      1",
            "text/html": "<div>\n<style scoped>\n    .dataframe tbody tr th:only-of-type {\n        vertical-align: middle;\n    }\n\n    .dataframe tbody tr th {\n        vertical-align: top;\n    }\n\n    .dataframe thead th {\n        text-align: right;\n    }\n</style>\n<table border=\"1\" class=\"dataframe\">\n  <thead>\n    <tr style=\"text-align: right;\">\n      <th></th>\n      <th>Date</th>\n      <th>Value</th>\n    </tr>\n  </thead>\n  <tbody>\n    <tr>\n      <th>0</th>\n      <td>2000-01-01</td>\n      <td>1</td>\n    </tr>\n    <tr>\n      <th>1</th>\n      <td>2000-01-02</td>\n      <td>1</td>\n    </tr>\n    <tr>\n      <th>2</th>\n      <td>2000-01-03</td>\n      <td>1</td>\n    </tr>\n    <tr>\n      <th>3</th>\n      <td>2000-01-04</td>\n      <td>1</td>\n    </tr>\n    <tr>\n      <th>4</th>\n      <td>2000-01-05</td>\n      <td>1</td>\n    </tr>\n  </tbody>\n</table>\n</div>"
          },
          "metadata": {}
        }
      ]
    },
    {
      "cell_type": "code",
      "source": "",
      "metadata": {
        "id": "yGfcj25jOw4u"
      },
      "execution_count": null,
      "outputs": []
    },
    {
      "cell_type": "code",
      "source": "pd.DatetimeIndex(data[\"Date\"]).year",
      "metadata": {
        "colab": {
          "base_uri": "https://localhost:8080/"
        },
        "id": "tH1U0DFLOxy3",
        "outputId": "3e9728ea-0791-466c-a1ab-eb60e4e4809c",
        "trusted": true
      },
      "execution_count": 31,
      "outputs": [
        {
          "execution_count": 31,
          "output_type": "execute_result",
          "data": {
            "text/plain": "Int64Index([2000, 2000, 2000, 2000, 2000, 2000, 2000, 2000, 2000, 2000,\n            ...\n            2029, 2029, 2029, 2029, 2029, 2029, 2029, 2029, 2029, 2030],\n           dtype='int64', name='Date', length=10959)"
          },
          "metadata": {}
        }
      ]
    },
    {
      "cell_type": "code",
      "source": "",
      "metadata": {
        "id": "oXRXED2CPdY2"
      },
      "execution_count": null,
      "outputs": []
    },
    {
      "cell_type": "code",
      "source": "data[\"Year\"] = pd.DatetimeIndex(data[\"Date\"]).year\ndata.head()",
      "metadata": {
        "colab": {
          "base_uri": "https://localhost:8080/",
          "height": 204
        },
        "id": "Wa5YZnzCPduQ",
        "outputId": "9733b283-a65d-44b3-b556-65f3276bc8c1",
        "trusted": true
      },
      "execution_count": 32,
      "outputs": [
        {
          "execution_count": 32,
          "output_type": "execute_result",
          "data": {
            "text/plain": "        Date  Value  Year\n0 2000-01-01      1  2000\n1 2000-01-02      1  2000\n2 2000-01-03      1  2000\n3 2000-01-04      1  2000\n4 2000-01-05      1  2000",
            "text/html": "<div>\n<style scoped>\n    .dataframe tbody tr th:only-of-type {\n        vertical-align: middle;\n    }\n\n    .dataframe tbody tr th {\n        vertical-align: top;\n    }\n\n    .dataframe thead th {\n        text-align: right;\n    }\n</style>\n<table border=\"1\" class=\"dataframe\">\n  <thead>\n    <tr style=\"text-align: right;\">\n      <th></th>\n      <th>Date</th>\n      <th>Value</th>\n      <th>Year</th>\n    </tr>\n  </thead>\n  <tbody>\n    <tr>\n      <th>0</th>\n      <td>2000-01-01</td>\n      <td>1</td>\n      <td>2000</td>\n    </tr>\n    <tr>\n      <th>1</th>\n      <td>2000-01-02</td>\n      <td>1</td>\n      <td>2000</td>\n    </tr>\n    <tr>\n      <th>2</th>\n      <td>2000-01-03</td>\n      <td>1</td>\n      <td>2000</td>\n    </tr>\n    <tr>\n      <th>3</th>\n      <td>2000-01-04</td>\n      <td>1</td>\n      <td>2000</td>\n    </tr>\n    <tr>\n      <th>4</th>\n      <td>2000-01-05</td>\n      <td>1</td>\n      <td>2000</td>\n    </tr>\n  </tbody>\n</table>\n</div>"
          },
          "metadata": {}
        }
      ]
    },
    {
      "cell_type": "markdown",
      "source": "実習：データに\"Month\"という列を追加し、\"Date\"列における月を入力してください",
      "metadata": {
        "id": "QaGckL_7OwSe"
      }
    },
    {
      "cell_type": "code",
      "source": "",
      "metadata": {
        "id": "ORhYA-nAP0Br"
      },
      "execution_count": null,
      "outputs": []
    },
    {
      "cell_type": "markdown",
      "source": "実習：データに\"Day\"という列を追加し、\"Date\"列における日を入力してください",
      "metadata": {
        "id": "Tvs7qweIP0YK"
      }
    },
    {
      "cell_type": "code",
      "source": "",
      "metadata": {
        "id": "v8GzpjmdP9sU"
      },
      "execution_count": null,
      "outputs": []
    },
    {
      "cell_type": "code",
      "source": "pd.DatetimeIndex(data[\"Date\"]).strftime(\"%Y\")",
      "metadata": {
        "colab": {
          "base_uri": "https://localhost:8080/"
        },
        "id": "XwpxFcLpQFz5",
        "outputId": "77a8afc3-83c4-4043-f4c8-5cc6dcc13553",
        "trusted": true
      },
      "execution_count": 33,
      "outputs": [
        {
          "execution_count": 33,
          "output_type": "execute_result",
          "data": {
            "text/plain": "Index(['2000', '2000', '2000', '2000', '2000', '2000', '2000', '2000', '2000',\n       '2000',\n       ...\n       '2029', '2029', '2029', '2029', '2029', '2029', '2029', '2029', '2029',\n       '2030'],\n      dtype='object', name='Date', length=10959)"
          },
          "metadata": {}
        }
      ]
    },
    {
      "cell_type": "code",
      "source": "",
      "metadata": {
        "id": "7UDib7QVQd5S"
      },
      "execution_count": null,
      "outputs": []
    },
    {
      "cell_type": "code",
      "source": "pd.DatetimeIndex(data[\"Date\"]).strftime(\"%Y年%m月%d日\")",
      "metadata": {
        "colab": {
          "base_uri": "https://localhost:8080/"
        },
        "id": "uVuNBhjdQe4o",
        "outputId": "5f2effef-8425-4024-c3b9-316388aa63ed",
        "trusted": true
      },
      "execution_count": 34,
      "outputs": [
        {
          "execution_count": 34,
          "output_type": "execute_result",
          "data": {
            "text/plain": "Index(['2000年01月01日', '2000年01月02日', '2000年01月03日', '2000年01月04日',\n       '2000年01月05日', '2000年01月06日', '2000年01月07日', '2000年01月08日',\n       '2000年01月09日', '2000年01月10日',\n       ...\n       '2029年12月23日', '2029年12月24日', '2029年12月25日', '2029年12月26日',\n       '2029年12月27日', '2029年12月28日', '2029年12月29日', '2029年12月30日',\n       '2029年12月31日', '2030年01月01日'],\n      dtype='object', name='Date', length=10959)"
          },
          "metadata": {}
        }
      ]
    },
    {
      "cell_type": "code",
      "source": "",
      "metadata": {
        "id": "NMAN2RZNQvfw"
      },
      "execution_count": null,
      "outputs": []
    },
    {
      "cell_type": "code",
      "source": "data[\"JPN_Date\"] = pd.DatetimeIndex(data[\"Date\"]).strftime(\"%Y年%m月%d日\")\ndata.head()",
      "metadata": {
        "colab": {
          "base_uri": "https://localhost:8080/",
          "height": 204
        },
        "id": "xtMezA6WQv2A",
        "outputId": "970c1ea4-8105-454b-9c83-8676d56248c9",
        "trusted": true
      },
      "execution_count": 35,
      "outputs": [
        {
          "execution_count": 35,
          "output_type": "execute_result",
          "data": {
            "text/plain": "        Date  Value  Year     JPN_Date\n0 2000-01-01      1  2000  2000年01月01日\n1 2000-01-02      1  2000  2000年01月02日\n2 2000-01-03      1  2000  2000年01月03日\n3 2000-01-04      1  2000  2000年01月04日\n4 2000-01-05      1  2000  2000年01月05日",
            "text/html": "<div>\n<style scoped>\n    .dataframe tbody tr th:only-of-type {\n        vertical-align: middle;\n    }\n\n    .dataframe tbody tr th {\n        vertical-align: top;\n    }\n\n    .dataframe thead th {\n        text-align: right;\n    }\n</style>\n<table border=\"1\" class=\"dataframe\">\n  <thead>\n    <tr style=\"text-align: right;\">\n      <th></th>\n      <th>Date</th>\n      <th>Value</th>\n      <th>Year</th>\n      <th>JPN_Date</th>\n    </tr>\n  </thead>\n  <tbody>\n    <tr>\n      <th>0</th>\n      <td>2000-01-01</td>\n      <td>1</td>\n      <td>2000</td>\n      <td>2000年01月01日</td>\n    </tr>\n    <tr>\n      <th>1</th>\n      <td>2000-01-02</td>\n      <td>1</td>\n      <td>2000</td>\n      <td>2000年01月02日</td>\n    </tr>\n    <tr>\n      <th>2</th>\n      <td>2000-01-03</td>\n      <td>1</td>\n      <td>2000</td>\n      <td>2000年01月03日</td>\n    </tr>\n    <tr>\n      <th>3</th>\n      <td>2000-01-04</td>\n      <td>1</td>\n      <td>2000</td>\n      <td>2000年01月04日</td>\n    </tr>\n    <tr>\n      <th>4</th>\n      <td>2000-01-05</td>\n      <td>1</td>\n      <td>2000</td>\n      <td>2000年01月05日</td>\n    </tr>\n  </tbody>\n</table>\n</div>"
          },
          "metadata": {}
        }
      ]
    },
    {
      "cell_type": "code",
      "source": "",
      "metadata": {
        "id": "lN8mA_SiQ5Kf"
      },
      "execution_count": null,
      "outputs": []
    },
    {
      "cell_type": "markdown",
      "source": "実習：データに\"Date_New\"列を追加し、日付を日/月/年に変換した文字列を入力してください。例えば、2022年6月13日は\"13/06/2022\"になります",
      "metadata": {
        "id": "UympLZzLQ6rL"
      }
    },
    {
      "cell_type": "code",
      "source": "",
      "metadata": {
        "id": "VWRgtvEGReQb"
      },
      "execution_count": null,
      "outputs": []
    },
    {
      "cell_type": "markdown",
      "source": "## 4 株価指数データ",
      "metadata": {
        "id": "klgEATjxbmtV"
      }
    },
    {
      "cell_type": "code",
      "source": "data = pd.read_csv(pyodide.open_url(\"https://raw.githubusercontent.com/ChungWookyung/kg-jupyterlite-data-analysis/main/content/DATA/nikkei.csv\"))\ndata[\"DATE\"] = pd.DatetimeIndex(data[\"DATE\"])\ndata.head()",
      "metadata": {
        "colab": {
          "base_uri": "https://localhost:8080/",
          "height": 204
        },
        "id": "HWLGnEsqbt_D",
        "outputId": "bde8cae6-6288-4c28-d556-ae43a2d05c07",
        "trusted": true
      },
      "execution_count": 36,
      "outputs": [
        {
          "execution_count": 36,
          "output_type": "execute_result",
          "data": {
            "text/plain": "        DATE  NIKKEI225\n0 1981-01-05    7150.95\n1 1981-01-06    7137.59\n2 1981-01-07    7200.77\n3 1981-01-08    7222.14\n4 1981-01-09    7248.13",
            "text/html": "<div>\n<style scoped>\n    .dataframe tbody tr th:only-of-type {\n        vertical-align: middle;\n    }\n\n    .dataframe tbody tr th {\n        vertical-align: top;\n    }\n\n    .dataframe thead th {\n        text-align: right;\n    }\n</style>\n<table border=\"1\" class=\"dataframe\">\n  <thead>\n    <tr style=\"text-align: right;\">\n      <th></th>\n      <th>DATE</th>\n      <th>NIKKEI225</th>\n    </tr>\n  </thead>\n  <tbody>\n    <tr>\n      <th>0</th>\n      <td>1981-01-05</td>\n      <td>7150.95</td>\n    </tr>\n    <tr>\n      <th>1</th>\n      <td>1981-01-06</td>\n      <td>7137.59</td>\n    </tr>\n    <tr>\n      <th>2</th>\n      <td>1981-01-07</td>\n      <td>7200.77</td>\n    </tr>\n    <tr>\n      <th>3</th>\n      <td>1981-01-08</td>\n      <td>7222.14</td>\n    </tr>\n    <tr>\n      <th>4</th>\n      <td>1981-01-09</td>\n      <td>7248.13</td>\n    </tr>\n  </tbody>\n</table>\n</div>"
          },
          "metadata": {}
        }
      ]
    },
    {
      "cell_type": "markdown",
      "source": "実習：データにYEAR,MONTH,DAY列を追加し、追加し、DATE列の年、月、日を入力してください",
      "metadata": {
        "id": "HoozdbZXcIVF"
      }
    },
    {
      "cell_type": "code",
      "source": "",
      "metadata": {
        "id": "zF8wtz8CccJ5"
      },
      "execution_count": null,
      "outputs": []
    },
    {
      "cell_type": "markdown",
      "source": "実習：データにDATE_JPN列を追加し、日本語で表記された日付を入力してください",
      "metadata": {
        "id": "PokVlo2oceOb"
      }
    },
    {
      "cell_type": "code",
      "source": "",
      "metadata": {
        "id": "YL46kEGHcojL"
      },
      "execution_count": null,
      "outputs": []
    },
    {
      "cell_type": "code",
      "source": "data[\"WEEKDAY\"] = pd.DatetimeIndex(data[\"DATE\"]).weekday\ndata.groupby(\"WEEKDAY\").mean()",
      "metadata": {
        "colab": {
          "base_uri": "https://localhost:8080/",
          "height": 235
        },
        "id": "HP3QBmqUcpmL",
        "outputId": "b0a6f549-9c0f-4540-d735-4e880bddbe1e",
        "trusted": true
      },
      "execution_count": 37,
      "outputs": [
        {
          "execution_count": 37,
          "output_type": "execute_result",
          "data": {
            "text/plain": "            NIKKEI225\nWEEKDAY              \n0        16729.709744\n1        16739.991466\n2        16744.390337\n3        16744.771380\n4        16731.840953",
            "text/html": "<div>\n<style scoped>\n    .dataframe tbody tr th:only-of-type {\n        vertical-align: middle;\n    }\n\n    .dataframe tbody tr th {\n        vertical-align: top;\n    }\n\n    .dataframe thead th {\n        text-align: right;\n    }\n</style>\n<table border=\"1\" class=\"dataframe\">\n  <thead>\n    <tr style=\"text-align: right;\">\n      <th></th>\n      <th>NIKKEI225</th>\n    </tr>\n    <tr>\n      <th>WEEKDAY</th>\n      <th></th>\n    </tr>\n  </thead>\n  <tbody>\n    <tr>\n      <th>0</th>\n      <td>16729.709744</td>\n    </tr>\n    <tr>\n      <th>1</th>\n      <td>16739.991466</td>\n    </tr>\n    <tr>\n      <th>2</th>\n      <td>16744.390337</td>\n    </tr>\n    <tr>\n      <th>3</th>\n      <td>16744.771380</td>\n    </tr>\n    <tr>\n      <th>4</th>\n      <td>16731.840953</td>\n    </tr>\n  </tbody>\n</table>\n</div>"
          },
          "metadata": {}
        }
      ]
    },
    {
      "cell_type": "markdown",
      "source": "実習：groupby()を用いて、データの年別と月別の平均を求めてください",
      "metadata": {
        "id": "AbCb9dqcdFIi"
      }
    },
    {
      "cell_type": "code",
      "source": "",
      "metadata": {
        "id": "f9n-1JzMdQFp"
      },
      "execution_count": null,
      "outputs": []
    },
    {
      "cell_type": "markdown",
      "source": "## 5-1 文字列の一括処理",
      "metadata": {
        "id": "6Oq4QUp3pGM3"
      }
    },
    {
      "cell_type": "code",
      "source": "data = pd.DataFrame({\"col1\":[\"A\",\"A\",\"A\",\"A\",\"A\"],\"col2\":\"B\"})\ndata.head()",
      "metadata": {
        "colab": {
          "base_uri": "https://localhost:8080/",
          "height": 204
        },
        "id": "P4fmlX4zpNcl",
        "outputId": "063130e8-0ea4-4b34-a3df-e9b43224806f",
        "trusted": true
      },
      "execution_count": 38,
      "outputs": [
        {
          "execution_count": 38,
          "output_type": "execute_result",
          "data": {
            "text/plain": "  col1 col2\n0    A    B\n1    A    B\n2    A    B\n3    A    B\n4    A    B",
            "text/html": "<div>\n<style scoped>\n    .dataframe tbody tr th:only-of-type {\n        vertical-align: middle;\n    }\n\n    .dataframe tbody tr th {\n        vertical-align: top;\n    }\n\n    .dataframe thead th {\n        text-align: right;\n    }\n</style>\n<table border=\"1\" class=\"dataframe\">\n  <thead>\n    <tr style=\"text-align: right;\">\n      <th></th>\n      <th>col1</th>\n      <th>col2</th>\n    </tr>\n  </thead>\n  <tbody>\n    <tr>\n      <th>0</th>\n      <td>A</td>\n      <td>B</td>\n    </tr>\n    <tr>\n      <th>1</th>\n      <td>A</td>\n      <td>B</td>\n    </tr>\n    <tr>\n      <th>2</th>\n      <td>A</td>\n      <td>B</td>\n    </tr>\n    <tr>\n      <th>3</th>\n      <td>A</td>\n      <td>B</td>\n    </tr>\n    <tr>\n      <th>4</th>\n      <td>A</td>\n      <td>B</td>\n    </tr>\n  </tbody>\n</table>\n</div>"
          },
          "metadata": {}
        }
      ]
    },
    {
      "cell_type": "code",
      "source": "",
      "metadata": {
        "id": "xQj1X1gDpdNu"
      },
      "execution_count": null,
      "outputs": []
    },
    {
      "cell_type": "code",
      "source": "data[\"col1\"] + \"1\"",
      "metadata": {
        "colab": {
          "base_uri": "https://localhost:8080/"
        },
        "id": "GPF-LiCzpdq6",
        "outputId": "9c1c59eb-6474-43ed-f8f2-c4e7e3b886b9",
        "trusted": true
      },
      "execution_count": 39,
      "outputs": [
        {
          "execution_count": 39,
          "output_type": "execute_result",
          "data": {
            "text/plain": "0    A1\n1    A1\n2    A1\n3    A1\n4    A1\nName: col1, dtype: object"
          },
          "metadata": {}
        }
      ]
    },
    {
      "cell_type": "code",
      "source": "",
      "metadata": {
        "id": "g94qzIH1tZw9"
      },
      "execution_count": null,
      "outputs": []
    },
    {
      "cell_type": "code",
      "source": "\"a\" + data[\"col1\"]",
      "metadata": {
        "colab": {
          "base_uri": "https://localhost:8080/"
        },
        "id": "3LKGCSwXtaEK",
        "outputId": "bbcd1f5c-5e57-4941-ce5d-7bd6c16d0fc7",
        "trusted": true
      },
      "execution_count": 40,
      "outputs": [
        {
          "execution_count": 40,
          "output_type": "execute_result",
          "data": {
            "text/plain": "0    aA\n1    aA\n2    aA\n3    aA\n4    aA\nName: col1, dtype: object"
          },
          "metadata": {}
        }
      ]
    },
    {
      "cell_type": "code",
      "source": "",
      "metadata": {
        "id": "CIlDQp7Cte0m"
      },
      "execution_count": null,
      "outputs": []
    },
    {
      "cell_type": "code",
      "source": "data[\"col1\"] + data[\"col2\"]",
      "metadata": {
        "colab": {
          "base_uri": "https://localhost:8080/"
        },
        "id": "1-se6pNktge5",
        "outputId": "404cf1da-74c7-40fa-8cb7-d8a0f50cfe41",
        "trusted": true
      },
      "execution_count": 41,
      "outputs": [
        {
          "execution_count": 41,
          "output_type": "execute_result",
          "data": {
            "text/plain": "0    AB\n1    AB\n2    AB\n3    AB\n4    AB\ndtype: object"
          },
          "metadata": {}
        }
      ]
    },
    {
      "cell_type": "code",
      "source": "",
      "metadata": {
        "id": "2PV9Bt41tjrx"
      },
      "execution_count": null,
      "outputs": []
    },
    {
      "cell_type": "code",
      "source": "data2 = data.copy()\ndata2[\"col3\"] = data2[\"col1\"] + \"1\"\ndata2[\"col4\"] = \"a\" + data2[\"col1\"]\ndata2[\"col5\"] = data2[\"col1\"] + data2[\"col2\"]\ndata2.head()",
      "metadata": {
        "colab": {
          "base_uri": "https://localhost:8080/",
          "height": 204
        },
        "id": "oXm-s-uStkMt",
        "outputId": "414e83f5-aff8-4a5f-f598-281415e8a6c6",
        "trusted": true
      },
      "execution_count": 42,
      "outputs": [
        {
          "execution_count": 42,
          "output_type": "execute_result",
          "data": {
            "text/plain": "  col1 col2 col3 col4 col5\n0    A    B   A1   aA   AB\n1    A    B   A1   aA   AB\n2    A    B   A1   aA   AB\n3    A    B   A1   aA   AB\n4    A    B   A1   aA   AB",
            "text/html": "<div>\n<style scoped>\n    .dataframe tbody tr th:only-of-type {\n        vertical-align: middle;\n    }\n\n    .dataframe tbody tr th {\n        vertical-align: top;\n    }\n\n    .dataframe thead th {\n        text-align: right;\n    }\n</style>\n<table border=\"1\" class=\"dataframe\">\n  <thead>\n    <tr style=\"text-align: right;\">\n      <th></th>\n      <th>col1</th>\n      <th>col2</th>\n      <th>col3</th>\n      <th>col4</th>\n      <th>col5</th>\n    </tr>\n  </thead>\n  <tbody>\n    <tr>\n      <th>0</th>\n      <td>A</td>\n      <td>B</td>\n      <td>A1</td>\n      <td>aA</td>\n      <td>AB</td>\n    </tr>\n    <tr>\n      <th>1</th>\n      <td>A</td>\n      <td>B</td>\n      <td>A1</td>\n      <td>aA</td>\n      <td>AB</td>\n    </tr>\n    <tr>\n      <th>2</th>\n      <td>A</td>\n      <td>B</td>\n      <td>A1</td>\n      <td>aA</td>\n      <td>AB</td>\n    </tr>\n    <tr>\n      <th>3</th>\n      <td>A</td>\n      <td>B</td>\n      <td>A1</td>\n      <td>aA</td>\n      <td>AB</td>\n    </tr>\n    <tr>\n      <th>4</th>\n      <td>A</td>\n      <td>B</td>\n      <td>A1</td>\n      <td>aA</td>\n      <td>AB</td>\n    </tr>\n  </tbody>\n</table>\n</div>"
          },
          "metadata": {}
        }
      ]
    },
    {
      "cell_type": "code",
      "source": "",
      "metadata": {
        "id": "mxmcFaR3t2Rm"
      },
      "execution_count": null,
      "outputs": []
    },
    {
      "cell_type": "markdown",
      "source": "実習：データをdata2という名前でコピーし、data2に文字列の一括処理を使った新しい列を３つ追加してください",
      "metadata": {
        "id": "e45rPFrqt3f7"
      }
    },
    {
      "cell_type": "code",
      "source": "",
      "metadata": {
        "id": "Ygo1imgcuEiC"
      },
      "execution_count": null,
      "outputs": []
    },
    {
      "cell_type": "markdown",
      "source": "## 5-2 split()の活用",
      "metadata": {
        "id": "FVKvZGteuGzP"
      }
    },
    {
      "cell_type": "code",
      "source": "data = pd.read_csv(pyodide.open_url(\"https://raw.githubusercontent.com/ChungWookyung/kg-jupyterlite-data-analysis/main/content/DATA/nikkei.csv\"))\ndata.head()",
      "metadata": {
        "colab": {
          "base_uri": "https://localhost:8080/",
          "height": 204
        },
        "id": "rFaRemn7uFGf",
        "outputId": "5d4bf680-e3aa-443c-e884-fc4e8b4ac0e6",
        "trusted": true
      },
      "execution_count": 43,
      "outputs": [
        {
          "execution_count": 43,
          "output_type": "execute_result",
          "data": {
            "text/plain": "         DATE  NIKKEI225\n0  1981-01-05    7150.95\n1  1981-01-06    7137.59\n2  1981-01-07    7200.77\n3  1981-01-08    7222.14\n4  1981-01-09    7248.13",
            "text/html": "<div>\n<style scoped>\n    .dataframe tbody tr th:only-of-type {\n        vertical-align: middle;\n    }\n\n    .dataframe tbody tr th {\n        vertical-align: top;\n    }\n\n    .dataframe thead th {\n        text-align: right;\n    }\n</style>\n<table border=\"1\" class=\"dataframe\">\n  <thead>\n    <tr style=\"text-align: right;\">\n      <th></th>\n      <th>DATE</th>\n      <th>NIKKEI225</th>\n    </tr>\n  </thead>\n  <tbody>\n    <tr>\n      <th>0</th>\n      <td>1981-01-05</td>\n      <td>7150.95</td>\n    </tr>\n    <tr>\n      <th>1</th>\n      <td>1981-01-06</td>\n      <td>7137.59</td>\n    </tr>\n    <tr>\n      <th>2</th>\n      <td>1981-01-07</td>\n      <td>7200.77</td>\n    </tr>\n    <tr>\n      <th>3</th>\n      <td>1981-01-08</td>\n      <td>7222.14</td>\n    </tr>\n    <tr>\n      <th>4</th>\n      <td>1981-01-09</td>\n      <td>7248.13</td>\n    </tr>\n  </tbody>\n</table>\n</div>"
          },
          "metadata": {}
        }
      ]
    },
    {
      "cell_type": "code",
      "source": "data[\"DATE\"].str[0:4]",
      "metadata": {
        "colab": {
          "base_uri": "https://localhost:8080/"
        },
        "id": "NtQEj3Kru2qU",
        "outputId": "a41fcd9d-0d28-415e-8615-f01b84704e9a",
        "trusted": true
      },
      "execution_count": 44,
      "outputs": [
        {
          "execution_count": 44,
          "output_type": "execute_result",
          "data": {
            "text/plain": "0        1981\n1        1981\n2        1981\n3        1981\n4        1981\n         ... \n10260    2022\n10261    2022\n10262    2022\n10263    2022\n10264    2022\nName: DATE, Length: 10265, dtype: object"
          },
          "metadata": {}
        }
      ]
    },
    {
      "cell_type": "code",
      "source": "",
      "metadata": {
        "id": "NfuU7eOtu7Pi"
      },
      "execution_count": null,
      "outputs": []
    },
    {
      "cell_type": "code",
      "source": "data[\"DATE\"].str[5:7]",
      "metadata": {
        "colab": {
          "base_uri": "https://localhost:8080/"
        },
        "id": "0_ofb1yWu8YR",
        "outputId": "2909bd19-afa1-452d-9070-70e1a6fcb209",
        "trusted": true
      },
      "execution_count": 45,
      "outputs": [
        {
          "execution_count": 45,
          "output_type": "execute_result",
          "data": {
            "text/plain": "0        01\n1        01\n2        01\n3        01\n4        01\n         ..\n10260    06\n10261    06\n10262    06\n10263    06\n10264    06\nName: DATE, Length: 10265, dtype: object"
          },
          "metadata": {}
        }
      ]
    },
    {
      "cell_type": "code",
      "source": "",
      "metadata": {
        "id": "h23brc20u8Io"
      },
      "execution_count": null,
      "outputs": []
    },
    {
      "cell_type": "code",
      "source": "data[\"DATE\"].str[8:10]",
      "metadata": {
        "colab": {
          "base_uri": "https://localhost:8080/"
        },
        "id": "KwMqWp3-u79X",
        "outputId": "91b2751c-d50b-41ef-916a-4b4af1434361",
        "trusted": true
      },
      "execution_count": 46,
      "outputs": [
        {
          "execution_count": 46,
          "output_type": "execute_result",
          "data": {
            "text/plain": "0        05\n1        06\n2        07\n3        08\n4        09\n         ..\n10260    06\n10261    07\n10262    08\n10263    09\n10264    10\nName: DATE, Length: 10265, dtype: object"
          },
          "metadata": {}
        }
      ]
    },
    {
      "cell_type": "code",
      "source": "",
      "metadata": {
        "id": "Y3I5D9rau7wQ"
      },
      "execution_count": null,
      "outputs": []
    },
    {
      "cell_type": "markdown",
      "source": "実習：.strを使って、データに\"YEAR\",\"MONTH\",\"DAY\"という三つの新しい列を追加してください。各列の値は年と月と日を入力してください",
      "metadata": {
        "id": "QkMGFrsZvKqQ"
      }
    },
    {
      "cell_type": "code",
      "source": "",
      "metadata": {
        "id": "PSmmjEQbvgXi"
      },
      "execution_count": null,
      "outputs": []
    },
    {
      "cell_type": "code",
      "source": "data[\"DATE\"].str.split(\"-\",expand=True)",
      "metadata": {
        "colab": {
          "base_uri": "https://localhost:8080/",
          "height": 419
        },
        "id": "dHe1XEGuuf42",
        "outputId": "283f1bf3-2d61-47a1-cfa8-41863975b87f",
        "trusted": true
      },
      "execution_count": 47,
      "outputs": [
        {
          "execution_count": 47,
          "output_type": "execute_result",
          "data": {
            "text/plain": "          0   1   2\n0      1981  01  05\n1      1981  01  06\n2      1981  01  07\n3      1981  01  08\n4      1981  01  09\n...     ...  ..  ..\n10260  2022  06  06\n10261  2022  06  07\n10262  2022  06  08\n10263  2022  06  09\n10264  2022  06  10\n\n[10265 rows x 3 columns]",
            "text/html": "<div>\n<style scoped>\n    .dataframe tbody tr th:only-of-type {\n        vertical-align: middle;\n    }\n\n    .dataframe tbody tr th {\n        vertical-align: top;\n    }\n\n    .dataframe thead th {\n        text-align: right;\n    }\n</style>\n<table border=\"1\" class=\"dataframe\">\n  <thead>\n    <tr style=\"text-align: right;\">\n      <th></th>\n      <th>0</th>\n      <th>1</th>\n      <th>2</th>\n    </tr>\n  </thead>\n  <tbody>\n    <tr>\n      <th>0</th>\n      <td>1981</td>\n      <td>01</td>\n      <td>05</td>\n    </tr>\n    <tr>\n      <th>1</th>\n      <td>1981</td>\n      <td>01</td>\n      <td>06</td>\n    </tr>\n    <tr>\n      <th>2</th>\n      <td>1981</td>\n      <td>01</td>\n      <td>07</td>\n    </tr>\n    <tr>\n      <th>3</th>\n      <td>1981</td>\n      <td>01</td>\n      <td>08</td>\n    </tr>\n    <tr>\n      <th>4</th>\n      <td>1981</td>\n      <td>01</td>\n      <td>09</td>\n    </tr>\n    <tr>\n      <th>...</th>\n      <td>...</td>\n      <td>...</td>\n      <td>...</td>\n    </tr>\n    <tr>\n      <th>10260</th>\n      <td>2022</td>\n      <td>06</td>\n      <td>06</td>\n    </tr>\n    <tr>\n      <th>10261</th>\n      <td>2022</td>\n      <td>06</td>\n      <td>07</td>\n    </tr>\n    <tr>\n      <th>10262</th>\n      <td>2022</td>\n      <td>06</td>\n      <td>08</td>\n    </tr>\n    <tr>\n      <th>10263</th>\n      <td>2022</td>\n      <td>06</td>\n      <td>09</td>\n    </tr>\n    <tr>\n      <th>10264</th>\n      <td>2022</td>\n      <td>06</td>\n      <td>10</td>\n    </tr>\n  </tbody>\n</table>\n<p>10265 rows × 3 columns</p>\n</div>"
          },
          "metadata": {}
        }
      ]
    },
    {
      "cell_type": "code",
      "source": "",
      "metadata": {
        "id": "A7wnVIs7vh08"
      },
      "execution_count": null,
      "outputs": []
    },
    {
      "cell_type": "code",
      "source": "d = data[\"DATE\"].str.split(\"-\",expand=True)\nd[0].head()",
      "metadata": {
        "colab": {
          "base_uri": "https://localhost:8080/"
        },
        "id": "JFuRBmXUvj_q",
        "outputId": "2121a08e-c692-41c8-a59e-70c7c486afc3",
        "trusted": true
      },
      "execution_count": 48,
      "outputs": [
        {
          "execution_count": 48,
          "output_type": "execute_result",
          "data": {
            "text/plain": "0    1981\n1    1981\n2    1981\n3    1981\n4    1981\nName: 0, dtype: object"
          },
          "metadata": {}
        }
      ]
    },
    {
      "cell_type": "code",
      "source": "",
      "metadata": {
        "id": "O_KP20CivubQ"
      },
      "execution_count": null,
      "outputs": []
    },
    {
      "cell_type": "code",
      "source": "d = data[\"DATE\"].str.split(\"-\",expand=True)\nd[1].head()",
      "metadata": {
        "colab": {
          "base_uri": "https://localhost:8080/"
        },
        "id": "qT0cKjOJvt7K",
        "outputId": "97a5c9a4-01e2-45e7-9613-17b219396b9f",
        "trusted": true
      },
      "execution_count": 49,
      "outputs": [
        {
          "execution_count": 49,
          "output_type": "execute_result",
          "data": {
            "text/plain": "0    01\n1    01\n2    01\n3    01\n4    01\nName: 1, dtype: object"
          },
          "metadata": {}
        }
      ]
    },
    {
      "cell_type": "code",
      "source": "",
      "metadata": {
        "id": "Gp35M1QSvxGk"
      },
      "execution_count": null,
      "outputs": []
    },
    {
      "cell_type": "code",
      "source": "d = data[\"DATE\"].str.split(\"-\",expand=True)\nd[2].head()",
      "metadata": {
        "colab": {
          "base_uri": "https://localhost:8080/"
        },
        "id": "BEW8p_XIvxuJ",
        "outputId": "fc0288fe-9dec-4917-81b3-58ddac29b4bf",
        "trusted": true
      },
      "execution_count": 50,
      "outputs": [
        {
          "execution_count": 50,
          "output_type": "execute_result",
          "data": {
            "text/plain": "0    05\n1    06\n2    07\n3    08\n4    09\nName: 2, dtype: object"
          },
          "metadata": {}
        }
      ]
    },
    {
      "cell_type": "code",
      "source": "",
      "metadata": {
        "id": "qhnaf7GCv1lu"
      },
      "execution_count": null,
      "outputs": []
    },
    {
      "cell_type": "markdown",
      "source": "実習：.str.split()を使って、データに\"YEAR\",\"MONTH\",\"DAY\"という三つの新しい列を追加してください。各列の値は年と月と日を入力してください",
      "metadata": {
        "id": "wsEty5sov2B3"
      }
    },
    {
      "cell_type": "code",
      "source": "",
      "metadata": {
        "id": "h-rV7-hDv4aq"
      },
      "execution_count": null,
      "outputs": []
    }
  ]
}